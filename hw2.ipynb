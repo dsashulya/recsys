{
 "cells": [
  {
   "cell_type": "code",
   "execution_count": 1,
   "id": "foster-freeware",
   "metadata": {},
   "outputs": [],
   "source": [
    "import numpy as np\n",
    "import pandas as pd\n",
    "\n",
    "from collections import defaultdict\n",
    "from tqdm import tqdm\n",
    "\n",
    "import xgboost as xgb\n",
    "from sklearn.model_selection import KFold, train_test_split\n",
    "from sklearn.metrics import roc_curve, auc"
   ]
  },
  {
   "cell_type": "markdown",
   "id": "congressional-democracy",
   "metadata": {},
   "source": [
    "## Задание 1\n",
    "\n",
    "Собрать более-менее приличную рекомендательную систему с помощью GBDT. Использование трюков из лекции (и не из неё), тюнинг и разумных объемов фича инжиниринг прям нужен. "
   ]
  },
  {
   "cell_type": "code",
   "execution_count": 2,
   "id": "rising-projection",
   "metadata": {},
   "outputs": [],
   "source": [
    "train = pd.read_csv(\"data/train.csv\")"
   ]
  },
  {
   "cell_type": "code",
   "execution_count": 3,
   "id": "comparative-costume",
   "metadata": {},
   "outputs": [
    {
     "data": {
      "text/html": [
       "<div>\n",
       "<style scoped>\n",
       "    .dataframe tbody tr th:only-of-type {\n",
       "        vertical-align: middle;\n",
       "    }\n",
       "\n",
       "    .dataframe tbody tr th {\n",
       "        vertical-align: top;\n",
       "    }\n",
       "\n",
       "    .dataframe thead th {\n",
       "        text-align: right;\n",
       "    }\n",
       "</style>\n",
       "<table border=\"1\" class=\"dataframe\">\n",
       "  <thead>\n",
       "    <tr style=\"text-align: right;\">\n",
       "      <th></th>\n",
       "      <th>msno</th>\n",
       "      <th>song_id</th>\n",
       "      <th>source_system_tab</th>\n",
       "      <th>source_screen_name</th>\n",
       "      <th>source_type</th>\n",
       "      <th>target</th>\n",
       "    </tr>\n",
       "  </thead>\n",
       "  <tbody>\n",
       "    <tr>\n",
       "      <th>0</th>\n",
       "      <td>FGtllVqz18RPiwJj/edr2gV78zirAiY/9SmYvia+kCg=</td>\n",
       "      <td>BBzumQNXUHKdEBOB7mAJuzok+IJA1c2Ryg/yzTF6tik=</td>\n",
       "      <td>explore</td>\n",
       "      <td>Explore</td>\n",
       "      <td>online-playlist</td>\n",
       "      <td>1</td>\n",
       "    </tr>\n",
       "    <tr>\n",
       "      <th>1</th>\n",
       "      <td>Xumu+NIjS6QYVxDS4/t3SawvJ7viT9hPKXmf0RtLNx8=</td>\n",
       "      <td>bhp/MpSNoqoxOIB+/l8WPqu6jldth4DIpCm3ayXnJqM=</td>\n",
       "      <td>my library</td>\n",
       "      <td>Local playlist more</td>\n",
       "      <td>local-playlist</td>\n",
       "      <td>1</td>\n",
       "    </tr>\n",
       "    <tr>\n",
       "      <th>2</th>\n",
       "      <td>Xumu+NIjS6QYVxDS4/t3SawvJ7viT9hPKXmf0RtLNx8=</td>\n",
       "      <td>JNWfrrC7zNN7BdMpsISKa4Mw+xVJYNnxXh3/Epw7QgY=</td>\n",
       "      <td>my library</td>\n",
       "      <td>Local playlist more</td>\n",
       "      <td>local-playlist</td>\n",
       "      <td>1</td>\n",
       "    </tr>\n",
       "    <tr>\n",
       "      <th>3</th>\n",
       "      <td>Xumu+NIjS6QYVxDS4/t3SawvJ7viT9hPKXmf0RtLNx8=</td>\n",
       "      <td>2A87tzfnJTSWqD7gIZHisolhe4DMdzkbd6LzO1KHjNs=</td>\n",
       "      <td>my library</td>\n",
       "      <td>Local playlist more</td>\n",
       "      <td>local-playlist</td>\n",
       "      <td>1</td>\n",
       "    </tr>\n",
       "    <tr>\n",
       "      <th>4</th>\n",
       "      <td>FGtllVqz18RPiwJj/edr2gV78zirAiY/9SmYvia+kCg=</td>\n",
       "      <td>3qm6XTZ6MOCU11x8FIVbAGH5l5uMkT3/ZalWG1oo2Gc=</td>\n",
       "      <td>explore</td>\n",
       "      <td>Explore</td>\n",
       "      <td>online-playlist</td>\n",
       "      <td>1</td>\n",
       "    </tr>\n",
       "  </tbody>\n",
       "</table>\n",
       "</div>"
      ],
      "text/plain": [
       "                                           msno  \\\n",
       "0  FGtllVqz18RPiwJj/edr2gV78zirAiY/9SmYvia+kCg=   \n",
       "1  Xumu+NIjS6QYVxDS4/t3SawvJ7viT9hPKXmf0RtLNx8=   \n",
       "2  Xumu+NIjS6QYVxDS4/t3SawvJ7viT9hPKXmf0RtLNx8=   \n",
       "3  Xumu+NIjS6QYVxDS4/t3SawvJ7viT9hPKXmf0RtLNx8=   \n",
       "4  FGtllVqz18RPiwJj/edr2gV78zirAiY/9SmYvia+kCg=   \n",
       "\n",
       "                                        song_id source_system_tab  \\\n",
       "0  BBzumQNXUHKdEBOB7mAJuzok+IJA1c2Ryg/yzTF6tik=           explore   \n",
       "1  bhp/MpSNoqoxOIB+/l8WPqu6jldth4DIpCm3ayXnJqM=        my library   \n",
       "2  JNWfrrC7zNN7BdMpsISKa4Mw+xVJYNnxXh3/Epw7QgY=        my library   \n",
       "3  2A87tzfnJTSWqD7gIZHisolhe4DMdzkbd6LzO1KHjNs=        my library   \n",
       "4  3qm6XTZ6MOCU11x8FIVbAGH5l5uMkT3/ZalWG1oo2Gc=           explore   \n",
       "\n",
       "    source_screen_name      source_type  target  \n",
       "0              Explore  online-playlist       1  \n",
       "1  Local playlist more   local-playlist       1  \n",
       "2  Local playlist more   local-playlist       1  \n",
       "3  Local playlist more   local-playlist       1  \n",
       "4              Explore  online-playlist       1  "
      ]
     },
     "execution_count": 3,
     "metadata": {},
     "output_type": "execute_result"
    }
   ],
   "source": [
    "train.head()"
   ]
  },
  {
   "cell_type": "code",
   "execution_count": 4,
   "id": "monetary-bunny",
   "metadata": {},
   "outputs": [
    {
     "data": {
      "text/html": [
       "<div>\n",
       "<style scoped>\n",
       "    .dataframe tbody tr th:only-of-type {\n",
       "        vertical-align: middle;\n",
       "    }\n",
       "\n",
       "    .dataframe tbody tr th {\n",
       "        vertical-align: top;\n",
       "    }\n",
       "\n",
       "    .dataframe thead th {\n",
       "        text-align: right;\n",
       "    }\n",
       "</style>\n",
       "<table border=\"1\" class=\"dataframe\">\n",
       "  <thead>\n",
       "    <tr style=\"text-align: right;\">\n",
       "      <th></th>\n",
       "      <th>song_id</th>\n",
       "      <th>song_length</th>\n",
       "      <th>genre_ids</th>\n",
       "      <th>artist_name</th>\n",
       "      <th>composer</th>\n",
       "      <th>lyricist</th>\n",
       "      <th>language</th>\n",
       "    </tr>\n",
       "  </thead>\n",
       "  <tbody>\n",
       "    <tr>\n",
       "      <th>0</th>\n",
       "      <td>CXoTN1eb7AI+DntdU1vbcwGRV4SCIDxZu+YD8JP8r4E=</td>\n",
       "      <td>247640</td>\n",
       "      <td>465</td>\n",
       "      <td>張信哲 (Jeff Chang)</td>\n",
       "      <td>董貞</td>\n",
       "      <td>何啟弘</td>\n",
       "      <td>3.0</td>\n",
       "    </tr>\n",
       "    <tr>\n",
       "      <th>1</th>\n",
       "      <td>o0kFgae9QtnYgRkVPqLJwa05zIhRlUjfF7O1tDw0ZDU=</td>\n",
       "      <td>197328</td>\n",
       "      <td>444</td>\n",
       "      <td>BLACKPINK</td>\n",
       "      <td>TEDDY|  FUTURE BOUNCE|  Bekuh BOOM</td>\n",
       "      <td>TEDDY</td>\n",
       "      <td>31.0</td>\n",
       "    </tr>\n",
       "    <tr>\n",
       "      <th>2</th>\n",
       "      <td>DwVvVurfpuz+XPuFvucclVQEyPqcpUkHR0ne1RQzPs0=</td>\n",
       "      <td>231781</td>\n",
       "      <td>465</td>\n",
       "      <td>SUPER JUNIOR</td>\n",
       "      <td>NaN</td>\n",
       "      <td>NaN</td>\n",
       "      <td>31.0</td>\n",
       "    </tr>\n",
       "    <tr>\n",
       "      <th>3</th>\n",
       "      <td>dKMBWoZyScdxSkihKG+Vf47nc18N9q4m58+b4e7dSSE=</td>\n",
       "      <td>273554</td>\n",
       "      <td>465</td>\n",
       "      <td>S.H.E</td>\n",
       "      <td>湯小康</td>\n",
       "      <td>徐世珍</td>\n",
       "      <td>3.0</td>\n",
       "    </tr>\n",
       "    <tr>\n",
       "      <th>4</th>\n",
       "      <td>W3bqWd3T+VeHFzHAUfARgW9AvVRaF4N5Yzm4Mr6Eo/o=</td>\n",
       "      <td>140329</td>\n",
       "      <td>726</td>\n",
       "      <td>貴族精選</td>\n",
       "      <td>Traditional</td>\n",
       "      <td>Traditional</td>\n",
       "      <td>52.0</td>\n",
       "    </tr>\n",
       "  </tbody>\n",
       "</table>\n",
       "</div>"
      ],
      "text/plain": [
       "                                        song_id  song_length genre_ids  \\\n",
       "0  CXoTN1eb7AI+DntdU1vbcwGRV4SCIDxZu+YD8JP8r4E=       247640       465   \n",
       "1  o0kFgae9QtnYgRkVPqLJwa05zIhRlUjfF7O1tDw0ZDU=       197328       444   \n",
       "2  DwVvVurfpuz+XPuFvucclVQEyPqcpUkHR0ne1RQzPs0=       231781       465   \n",
       "3  dKMBWoZyScdxSkihKG+Vf47nc18N9q4m58+b4e7dSSE=       273554       465   \n",
       "4  W3bqWd3T+VeHFzHAUfARgW9AvVRaF4N5Yzm4Mr6Eo/o=       140329       726   \n",
       "\n",
       "        artist_name                            composer     lyricist  language  \n",
       "0  張信哲 (Jeff Chang)                                  董貞          何啟弘       3.0  \n",
       "1         BLACKPINK  TEDDY|  FUTURE BOUNCE|  Bekuh BOOM        TEDDY      31.0  \n",
       "2      SUPER JUNIOR                                 NaN          NaN      31.0  \n",
       "3             S.H.E                                 湯小康          徐世珍       3.0  \n",
       "4              貴族精選                         Traditional  Traditional      52.0  "
      ]
     },
     "execution_count": 4,
     "metadata": {},
     "output_type": "execute_result"
    }
   ],
   "source": [
    "songs = pd.read_csv('data/songs.csv')\n",
    "songs.head()"
   ]
  },
  {
   "cell_type": "code",
   "execution_count": 5,
   "id": "optical-frost",
   "metadata": {},
   "outputs": [
    {
     "data": {
      "text/html": [
       "<div>\n",
       "<style scoped>\n",
       "    .dataframe tbody tr th:only-of-type {\n",
       "        vertical-align: middle;\n",
       "    }\n",
       "\n",
       "    .dataframe tbody tr th {\n",
       "        vertical-align: top;\n",
       "    }\n",
       "\n",
       "    .dataframe thead th {\n",
       "        text-align: right;\n",
       "    }\n",
       "</style>\n",
       "<table border=\"1\" class=\"dataframe\">\n",
       "  <thead>\n",
       "    <tr style=\"text-align: right;\">\n",
       "      <th></th>\n",
       "      <th>msno</th>\n",
       "      <th>city</th>\n",
       "      <th>age</th>\n",
       "      <th>gender</th>\n",
       "      <th>registered_via</th>\n",
       "      <th>registration_init_time</th>\n",
       "      <th>expiration_date</th>\n",
       "    </tr>\n",
       "  </thead>\n",
       "  <tbody>\n",
       "    <tr>\n",
       "      <th>0</th>\n",
       "      <td>XQxgAYj3klVKjR3oxPPXYYFp4soD4TuBghkhMTD4oTw=</td>\n",
       "      <td>1</td>\n",
       "      <td>0</td>\n",
       "      <td>NaN</td>\n",
       "      <td>7</td>\n",
       "      <td>20110820</td>\n",
       "      <td>20170920</td>\n",
       "    </tr>\n",
       "    <tr>\n",
       "      <th>1</th>\n",
       "      <td>UizsfmJb9mV54qE9hCYyU07Va97c0lCRLEQX3ae+ztM=</td>\n",
       "      <td>1</td>\n",
       "      <td>0</td>\n",
       "      <td>NaN</td>\n",
       "      <td>7</td>\n",
       "      <td>20150628</td>\n",
       "      <td>20170622</td>\n",
       "    </tr>\n",
       "    <tr>\n",
       "      <th>2</th>\n",
       "      <td>D8nEhsIOBSoE6VthTaqDX8U6lqjJ7dLdr72mOyLya2A=</td>\n",
       "      <td>1</td>\n",
       "      <td>0</td>\n",
       "      <td>NaN</td>\n",
       "      <td>4</td>\n",
       "      <td>20160411</td>\n",
       "      <td>20170712</td>\n",
       "    </tr>\n",
       "    <tr>\n",
       "      <th>3</th>\n",
       "      <td>mCuD+tZ1hERA/o5GPqk38e041J8ZsBaLcu7nGoIIvhI=</td>\n",
       "      <td>1</td>\n",
       "      <td>0</td>\n",
       "      <td>NaN</td>\n",
       "      <td>9</td>\n",
       "      <td>20150906</td>\n",
       "      <td>20150907</td>\n",
       "    </tr>\n",
       "    <tr>\n",
       "      <th>4</th>\n",
       "      <td>q4HRBfVSssAFS9iRfxWrohxuk9kCYMKjHOEagUMV6rQ=</td>\n",
       "      <td>1</td>\n",
       "      <td>0</td>\n",
       "      <td>NaN</td>\n",
       "      <td>4</td>\n",
       "      <td>20170126</td>\n",
       "      <td>20170613</td>\n",
       "    </tr>\n",
       "  </tbody>\n",
       "</table>\n",
       "</div>"
      ],
      "text/plain": [
       "                                           msno  city  age gender  \\\n",
       "0  XQxgAYj3klVKjR3oxPPXYYFp4soD4TuBghkhMTD4oTw=     1    0    NaN   \n",
       "1  UizsfmJb9mV54qE9hCYyU07Va97c0lCRLEQX3ae+ztM=     1    0    NaN   \n",
       "2  D8nEhsIOBSoE6VthTaqDX8U6lqjJ7dLdr72mOyLya2A=     1    0    NaN   \n",
       "3  mCuD+tZ1hERA/o5GPqk38e041J8ZsBaLcu7nGoIIvhI=     1    0    NaN   \n",
       "4  q4HRBfVSssAFS9iRfxWrohxuk9kCYMKjHOEagUMV6rQ=     1    0    NaN   \n",
       "\n",
       "   registered_via  registration_init_time  expiration_date  \n",
       "0               7                20110820         20170920  \n",
       "1               7                20150628         20170622  \n",
       "2               4                20160411         20170712  \n",
       "3               9                20150906         20150907  \n",
       "4               4                20170126         20170613  "
      ]
     },
     "execution_count": 5,
     "metadata": {},
     "output_type": "execute_result"
    }
   ],
   "source": [
    "members = pd.read_csv('data/members.csv')\n",
    "members = members.rename(columns={'bd': \"age\"})\n",
    "members.head()"
   ]
  },
  {
   "cell_type": "code",
   "execution_count": 6,
   "id": "conservative-battlefield",
   "metadata": {},
   "outputs": [
    {
     "name": "stdout",
     "output_type": "stream",
     "text": [
      "[-43, -38, 0, 2, 3, 5, 7, 10, 11, 12, 13, 14, 15, 16, 17, 18, 19, 20, 21, 22, 23, 24, 25, 26, 27, 28, 29, 30, 31, 32, 33, 34, 35, 36, 37, 38, 39, 40, 41, 42, 43, 44, 45, 46, 47, 48, 49, 50, 51, 52, 53, 54, 55, 56, 57, 58, 59, 60, 61, 62, 63, 64, 65, 66, 67, 68, 70, 72, 73, 74, 76, 78, 82, 83, 85, 87, 89, 90, 93, 95, 96, 97, 101, 102, 103, 105, 106, 107, 111, 112, 131, 144, 931, 1030, 1051]\n"
     ]
    }
   ],
   "source": [
    "print(sorted(members.age.unique()))"
   ]
  },
  {
   "cell_type": "code",
   "execution_count": 7,
   "id": "concerned-minister",
   "metadata": {},
   "outputs": [],
   "source": [
    "members.loc[(members.age <= 0) | (members.age > 118), 'age'] = 0"
   ]
  },
  {
   "cell_type": "code",
   "execution_count": 8,
   "id": "excess-shell",
   "metadata": {},
   "outputs": [
    {
     "name": "stdout",
     "output_type": "stream",
     "text": [
      "[0, 2, 3, 5, 7, 10, 11, 12, 13, 14, 15, 16, 17, 18, 19, 20, 21, 22, 23, 24, 25, 26, 27, 28, 29, 30, 31, 32, 33, 34, 35, 36, 37, 38, 39, 40, 41, 42, 43, 44, 45, 46, 47, 48, 49, 50, 51, 52, 53, 54, 55, 56, 57, 58, 59, 60, 61, 62, 63, 64, 65, 66, 67, 68, 70, 72, 73, 74, 76, 78, 82, 83, 85, 87, 89, 90, 93, 95, 96, 97, 101, 102, 103, 105, 106, 107, 111, 112]\n"
     ]
    }
   ],
   "source": [
    "print(sorted(members.age.unique()))"
   ]
  },
  {
   "cell_type": "code",
   "execution_count": 9,
   "id": "convinced-characterization",
   "metadata": {},
   "outputs": [],
   "source": [
    "train = train.merge(members, on='msno', how='left')\n",
    "train = train.merge(songs, on='song_id', how='left')"
   ]
  },
  {
   "cell_type": "code",
   "execution_count": 10,
   "id": "motivated-puppy",
   "metadata": {},
   "outputs": [
    {
     "data": {
      "text/html": [
       "<div>\n",
       "<style scoped>\n",
       "    .dataframe tbody tr th:only-of-type {\n",
       "        vertical-align: middle;\n",
       "    }\n",
       "\n",
       "    .dataframe tbody tr th {\n",
       "        vertical-align: top;\n",
       "    }\n",
       "\n",
       "    .dataframe thead th {\n",
       "        text-align: right;\n",
       "    }\n",
       "</style>\n",
       "<table border=\"1\" class=\"dataframe\">\n",
       "  <thead>\n",
       "    <tr style=\"text-align: right;\">\n",
       "      <th></th>\n",
       "      <th>msno</th>\n",
       "      <th>song_id</th>\n",
       "      <th>source_system_tab</th>\n",
       "      <th>source_screen_name</th>\n",
       "      <th>source_type</th>\n",
       "      <th>target</th>\n",
       "      <th>city</th>\n",
       "      <th>age</th>\n",
       "      <th>gender</th>\n",
       "      <th>registered_via</th>\n",
       "      <th>registration_init_time</th>\n",
       "      <th>expiration_date</th>\n",
       "      <th>song_length</th>\n",
       "      <th>genre_ids</th>\n",
       "      <th>artist_name</th>\n",
       "      <th>composer</th>\n",
       "      <th>lyricist</th>\n",
       "      <th>language</th>\n",
       "    </tr>\n",
       "  </thead>\n",
       "  <tbody>\n",
       "    <tr>\n",
       "      <th>0</th>\n",
       "      <td>FGtllVqz18RPiwJj/edr2gV78zirAiY/9SmYvia+kCg=</td>\n",
       "      <td>BBzumQNXUHKdEBOB7mAJuzok+IJA1c2Ryg/yzTF6tik=</td>\n",
       "      <td>explore</td>\n",
       "      <td>Explore</td>\n",
       "      <td>online-playlist</td>\n",
       "      <td>1</td>\n",
       "      <td>1</td>\n",
       "      <td>0</td>\n",
       "      <td>NaN</td>\n",
       "      <td>7</td>\n",
       "      <td>20120102</td>\n",
       "      <td>20171005</td>\n",
       "      <td>206471.0</td>\n",
       "      <td>359</td>\n",
       "      <td>Bastille</td>\n",
       "      <td>Dan Smith| Mark Crew</td>\n",
       "      <td>NaN</td>\n",
       "      <td>52.0</td>\n",
       "    </tr>\n",
       "    <tr>\n",
       "      <th>1</th>\n",
       "      <td>Xumu+NIjS6QYVxDS4/t3SawvJ7viT9hPKXmf0RtLNx8=</td>\n",
       "      <td>bhp/MpSNoqoxOIB+/l8WPqu6jldth4DIpCm3ayXnJqM=</td>\n",
       "      <td>my library</td>\n",
       "      <td>Local playlist more</td>\n",
       "      <td>local-playlist</td>\n",
       "      <td>1</td>\n",
       "      <td>13</td>\n",
       "      <td>24</td>\n",
       "      <td>female</td>\n",
       "      <td>9</td>\n",
       "      <td>20110525</td>\n",
       "      <td>20170911</td>\n",
       "      <td>284584.0</td>\n",
       "      <td>1259</td>\n",
       "      <td>Various Artists</td>\n",
       "      <td>NaN</td>\n",
       "      <td>NaN</td>\n",
       "      <td>52.0</td>\n",
       "    </tr>\n",
       "    <tr>\n",
       "      <th>2</th>\n",
       "      <td>Xumu+NIjS6QYVxDS4/t3SawvJ7viT9hPKXmf0RtLNx8=</td>\n",
       "      <td>JNWfrrC7zNN7BdMpsISKa4Mw+xVJYNnxXh3/Epw7QgY=</td>\n",
       "      <td>my library</td>\n",
       "      <td>Local playlist more</td>\n",
       "      <td>local-playlist</td>\n",
       "      <td>1</td>\n",
       "      <td>13</td>\n",
       "      <td>24</td>\n",
       "      <td>female</td>\n",
       "      <td>9</td>\n",
       "      <td>20110525</td>\n",
       "      <td>20170911</td>\n",
       "      <td>225396.0</td>\n",
       "      <td>1259</td>\n",
       "      <td>Nas</td>\n",
       "      <td>N. Jones、W. Adams、J. Lordan、D. Ingle</td>\n",
       "      <td>NaN</td>\n",
       "      <td>52.0</td>\n",
       "    </tr>\n",
       "    <tr>\n",
       "      <th>3</th>\n",
       "      <td>Xumu+NIjS6QYVxDS4/t3SawvJ7viT9hPKXmf0RtLNx8=</td>\n",
       "      <td>2A87tzfnJTSWqD7gIZHisolhe4DMdzkbd6LzO1KHjNs=</td>\n",
       "      <td>my library</td>\n",
       "      <td>Local playlist more</td>\n",
       "      <td>local-playlist</td>\n",
       "      <td>1</td>\n",
       "      <td>13</td>\n",
       "      <td>24</td>\n",
       "      <td>female</td>\n",
       "      <td>9</td>\n",
       "      <td>20110525</td>\n",
       "      <td>20170911</td>\n",
       "      <td>255512.0</td>\n",
       "      <td>1019</td>\n",
       "      <td>Soundway</td>\n",
       "      <td>Kwadwo Donkoh</td>\n",
       "      <td>NaN</td>\n",
       "      <td>-1.0</td>\n",
       "    </tr>\n",
       "    <tr>\n",
       "      <th>4</th>\n",
       "      <td>FGtllVqz18RPiwJj/edr2gV78zirAiY/9SmYvia+kCg=</td>\n",
       "      <td>3qm6XTZ6MOCU11x8FIVbAGH5l5uMkT3/ZalWG1oo2Gc=</td>\n",
       "      <td>explore</td>\n",
       "      <td>Explore</td>\n",
       "      <td>online-playlist</td>\n",
       "      <td>1</td>\n",
       "      <td>1</td>\n",
       "      <td>0</td>\n",
       "      <td>NaN</td>\n",
       "      <td>7</td>\n",
       "      <td>20120102</td>\n",
       "      <td>20171005</td>\n",
       "      <td>187802.0</td>\n",
       "      <td>1011</td>\n",
       "      <td>Brett Young</td>\n",
       "      <td>Brett Young| Kelly Archer| Justin Ebach</td>\n",
       "      <td>NaN</td>\n",
       "      <td>52.0</td>\n",
       "    </tr>\n",
       "  </tbody>\n",
       "</table>\n",
       "</div>"
      ],
      "text/plain": [
       "                                           msno  \\\n",
       "0  FGtllVqz18RPiwJj/edr2gV78zirAiY/9SmYvia+kCg=   \n",
       "1  Xumu+NIjS6QYVxDS4/t3SawvJ7viT9hPKXmf0RtLNx8=   \n",
       "2  Xumu+NIjS6QYVxDS4/t3SawvJ7viT9hPKXmf0RtLNx8=   \n",
       "3  Xumu+NIjS6QYVxDS4/t3SawvJ7viT9hPKXmf0RtLNx8=   \n",
       "4  FGtllVqz18RPiwJj/edr2gV78zirAiY/9SmYvia+kCg=   \n",
       "\n",
       "                                        song_id source_system_tab  \\\n",
       "0  BBzumQNXUHKdEBOB7mAJuzok+IJA1c2Ryg/yzTF6tik=           explore   \n",
       "1  bhp/MpSNoqoxOIB+/l8WPqu6jldth4DIpCm3ayXnJqM=        my library   \n",
       "2  JNWfrrC7zNN7BdMpsISKa4Mw+xVJYNnxXh3/Epw7QgY=        my library   \n",
       "3  2A87tzfnJTSWqD7gIZHisolhe4DMdzkbd6LzO1KHjNs=        my library   \n",
       "4  3qm6XTZ6MOCU11x8FIVbAGH5l5uMkT3/ZalWG1oo2Gc=           explore   \n",
       "\n",
       "    source_screen_name      source_type  target  city  age  gender  \\\n",
       "0              Explore  online-playlist       1     1    0     NaN   \n",
       "1  Local playlist more   local-playlist       1    13   24  female   \n",
       "2  Local playlist more   local-playlist       1    13   24  female   \n",
       "3  Local playlist more   local-playlist       1    13   24  female   \n",
       "4              Explore  online-playlist       1     1    0     NaN   \n",
       "\n",
       "   registered_via  registration_init_time  expiration_date  song_length  \\\n",
       "0               7                20120102         20171005     206471.0   \n",
       "1               9                20110525         20170911     284584.0   \n",
       "2               9                20110525         20170911     225396.0   \n",
       "3               9                20110525         20170911     255512.0   \n",
       "4               7                20120102         20171005     187802.0   \n",
       "\n",
       "  genre_ids      artist_name                                 composer  \\\n",
       "0       359         Bastille                     Dan Smith| Mark Crew   \n",
       "1      1259  Various Artists                                      NaN   \n",
       "2      1259              Nas     N. Jones、W. Adams、J. Lordan、D. Ingle   \n",
       "3      1019         Soundway                            Kwadwo Donkoh   \n",
       "4      1011      Brett Young  Brett Young| Kelly Archer| Justin Ebach   \n",
       "\n",
       "  lyricist  language  \n",
       "0      NaN      52.0  \n",
       "1      NaN      52.0  \n",
       "2      NaN      52.0  \n",
       "3      NaN      -1.0  \n",
       "4      NaN      52.0  "
      ]
     },
     "execution_count": 10,
     "metadata": {},
     "output_type": "execute_result"
    }
   ],
   "source": [
    "train.head()"
   ]
  },
  {
   "cell_type": "code",
   "execution_count": 12,
   "id": "preceding-quarter",
   "metadata": {},
   "outputs": [
    {
     "data": {
      "text/plain": [
       "Index(['msno', 'song_id', 'source_system_tab', 'source_screen_name',\n",
       "       'source_type', 'target', 'city', 'age', 'gender', 'registered_via',\n",
       "       'registration_init_time', 'expiration_date', 'song_length', 'genre_ids',\n",
       "       'artist_name', 'composer', 'lyricist', 'language'],\n",
       "      dtype='object')"
      ]
     },
     "execution_count": 12,
     "metadata": {},
     "output_type": "execute_result"
    }
   ],
   "source": [
    "train.columns"
   ]
  },
  {
   "cell_type": "code",
   "execution_count": 13,
   "id": "violent-honey",
   "metadata": {},
   "outputs": [
    {
     "data": {
      "text/plain": [
       "Index(['song_id', 'song_length', 'genre_ids', 'artist_name', 'composer',\n",
       "       'lyricist', 'language'],\n",
       "      dtype='object')"
      ]
     },
     "execution_count": 13,
     "metadata": {},
     "output_type": "execute_result"
    }
   ],
   "source": [
    "songs.columns"
   ]
  },
  {
   "cell_type": "markdown",
   "id": "anticipated-lending",
   "metadata": {},
   "source": [
    "Для каждого трека добавим долю его языка, исполнителей и жанров в прослушанном у пользователя"
   ]
  },
  {
   "cell_type": "code",
   "execution_count": 14,
   "id": "single-involvement",
   "metadata": {},
   "outputs": [
    {
     "data": {
      "text/plain": [
       "msno                       30755\n",
       "song_id                   359966\n",
       "source_system_tab              8\n",
       "source_screen_name            20\n",
       "source_type                   12\n",
       "target                         2\n",
       "city                          21\n",
       "age                           85\n",
       "gender                         2\n",
       "registered_via                 5\n",
       "registration_init_time      3811\n",
       "expiration_date             1395\n",
       "song_length                60266\n",
       "genre_ids                    572\n",
       "artist_name                40582\n",
       "composer                   76064\n",
       "lyricist                   33888\n",
       "language                      10\n",
       "dtype: int64"
      ]
     },
     "execution_count": 14,
     "metadata": {},
     "output_type": "execute_result"
    }
   ],
   "source": [
    "train.nunique()"
   ]
  },
  {
   "cell_type": "markdown",
   "id": "boxed-buying",
   "metadata": {},
   "source": [
    "#### Жанры"
   ]
  },
  {
   "cell_type": "code",
   "execution_count": 15,
   "id": "variable-cleveland",
   "metadata": {},
   "outputs": [],
   "source": [
    "train.genre_ids = train.genre_ids.astype(str)\n",
    "train.loc[train.genre_ids == 'nan', 'genre_ids'] = '-1'"
   ]
  },
  {
   "cell_type": "code",
   "execution_count": 16,
   "id": "unlimited-nothing",
   "metadata": {},
   "outputs": [
    {
     "name": "stderr",
     "output_type": "stream",
     "text": [
      "100%|██████████| 7377418/7377418 [00:21<00:00, 338409.18it/s]\n"
     ]
    }
   ],
   "source": [
    "all_users = {}\n",
    "for user, genres in tqdm(zip(train.msno, train.genre_ids), total=train.shape[0]):\n",
    "    if user not in all_users:\n",
    "        all_users[user] = defaultdict(int)\n",
    "    gg = list(map(int, genres.split('|')))\n",
    "    all_users[user]['total_songs'] += 1\n",
    "    for g in gg:\n",
    "        all_users[user][g] += 1"
   ]
  },
  {
   "cell_type": "code",
   "execution_count": 17,
   "id": "magnetic-advancement",
   "metadata": {},
   "outputs": [
    {
     "name": "stderr",
     "output_type": "stream",
     "text": [
      "100%|██████████| 7377418/7377418 [02:06<00:00, 58481.69it/s]\n"
     ]
    }
   ],
   "source": [
    "genre_probs = []\n",
    "for user, genres in tqdm(zip(train.msno, train.genre_ids), total=train.shape[0]):\n",
    "    gg = list(map(int, genres.split('|')))\n",
    "    prob = np.array([all_users[user][g] / all_users[user][\"total_songs\"] for g in gg]).sum()\n",
    "    genre_probs.append(np.log(prob))"
   ]
  },
  {
   "cell_type": "code",
   "execution_count": 18,
   "id": "monthly-north",
   "metadata": {},
   "outputs": [],
   "source": [
    "train['genre_probs'] = genre_probs"
   ]
  },
  {
   "cell_type": "markdown",
   "id": "purple-cemetery",
   "metadata": {},
   "source": [
    "#### Язык"
   ]
  },
  {
   "cell_type": "code",
   "execution_count": 19,
   "id": "pleased-retreat",
   "metadata": {},
   "outputs": [
    {
     "data": {
      "text/plain": [
       "0.0020332317"
      ]
     },
     "execution_count": 19,
     "metadata": {},
     "output_type": "execute_result"
    }
   ],
   "source": [
    "round(train.language.isnull().sum() / train.shape[0] * 100, 10)"
   ]
  },
  {
   "cell_type": "code",
   "execution_count": 22,
   "id": "patient-request",
   "metadata": {},
   "outputs": [
    {
     "data": {
      "text/plain": [
       "array([52., -1., 31.,  3., 17., 10., 24., 59., 45., nan, 38.])"
      ]
     },
     "execution_count": 22,
     "metadata": {},
     "output_type": "execute_result"
    }
   ],
   "source": [
    "train.language.unique()"
   ]
  },
  {
   "cell_type": "code",
   "execution_count": 25,
   "id": "logical-vegetarian",
   "metadata": {},
   "outputs": [],
   "source": [
    "train.loc[train.language.isnull(), 'language'] = 0."
   ]
  },
  {
   "cell_type": "code",
   "execution_count": 26,
   "id": "noticed-world",
   "metadata": {},
   "outputs": [
    {
     "data": {
      "text/plain": [
       "array([52., -1., 31.,  3., 17., 10., 24., 59., 45.,  0., 38.])"
      ]
     },
     "execution_count": 26,
     "metadata": {},
     "output_type": "execute_result"
    }
   ],
   "source": [
    "train.language.unique()"
   ]
  },
  {
   "cell_type": "code",
   "execution_count": 27,
   "id": "molecular-greensboro",
   "metadata": {},
   "outputs": [
    {
     "name": "stderr",
     "output_type": "stream",
     "text": [
      "100%|██████████| 7377418/7377418 [00:11<00:00, 614822.54it/s]\n"
     ]
    }
   ],
   "source": [
    "all_users_lang = {}\n",
    "for user, lang in tqdm(zip(train.msno, train.language), total=train.shape[0]):\n",
    "    if user not in all_users_lang:\n",
    "        all_users_lang[user] = defaultdict(int)\n",
    "    all_users_lang[user]['total_songs'] += 1\n",
    "    all_users_lang[user][lang] += 1"
   ]
  },
  {
   "cell_type": "code",
   "execution_count": 30,
   "id": "acute-wagon",
   "metadata": {},
   "outputs": [
    {
     "data": {
      "text/plain": [
       "defaultdict(int,\n",
       "            {'total_songs': 5511,\n",
       "             52.0: 2926,\n",
       "             -1.0: 628,\n",
       "             17.0: 150,\n",
       "             31.0: 530,\n",
       "             3.0: 1162,\n",
       "             10.0: 97,\n",
       "             24.0: 17,\n",
       "             0.0: 1})"
      ]
     },
     "execution_count": 30,
     "metadata": {},
     "output_type": "execute_result"
    }
   ],
   "source": [
    "all_users_lang['FGtllVqz18RPiwJj/edr2gV78zirAiY/9SmYvia+kCg=']"
   ]
  },
  {
   "cell_type": "code",
   "execution_count": 31,
   "id": "bizarre-minister",
   "metadata": {},
   "outputs": [
    {
     "name": "stderr",
     "output_type": "stream",
     "text": [
      "100%|██████████| 7377418/7377418 [00:20<00:00, 360700.51it/s]\n"
     ]
    }
   ],
   "source": [
    "lang_probs = []\n",
    "for user, lang in tqdm(zip(train.msno, train.language), total=train.shape[0]):\n",
    "    prob = all_users_lang[user][lang] / all_users_lang[user][\"total_songs\"]\n",
    "    lang_probs.append(np.log(prob))"
   ]
  },
  {
   "cell_type": "code",
   "execution_count": 32,
   "id": "complete-tutorial",
   "metadata": {},
   "outputs": [],
   "source": [
    "train['lang_probs'] = lang_probs"
   ]
  },
  {
   "cell_type": "markdown",
   "id": "dependent-slide",
   "metadata": {},
   "source": [
    "#### Исполнители"
   ]
  },
  {
   "cell_type": "code",
   "execution_count": 33,
   "id": "fitted-tiger",
   "metadata": {},
   "outputs": [
    {
     "name": "stderr",
     "output_type": "stream",
     "text": [
      "100%|██████████| 7377418/7377418 [00:26<00:00, 273302.69it/s]\n"
     ]
    }
   ],
   "source": [
    "all_users_artist = {}\n",
    "for user, artist in tqdm(zip(train.msno, train.artist_name), total=train.shape[0]):\n",
    "    if user not in all_users_artist:\n",
    "        all_users_artist[user] = defaultdict(int)\n",
    "    gg = str(artist).split('|')\n",
    "    all_users_artist[user]['total_songs'] += 1\n",
    "    for g in gg:\n",
    "        all_users_artist[user][g] += 1"
   ]
  },
  {
   "cell_type": "code",
   "execution_count": 34,
   "id": "artificial-madness",
   "metadata": {},
   "outputs": [
    {
     "name": "stderr",
     "output_type": "stream",
     "text": [
      "100%|██████████| 7377418/7377418 [01:30<00:00, 81785.60it/s]\n"
     ]
    }
   ],
   "source": [
    "artist_probs = []\n",
    "for user, artist in tqdm(zip(train.msno, train.artist_name), total=train.shape[0]):\n",
    "    gg = str(artist).split('|')\n",
    "    prob = np.array([all_users_artist[user][g] / all_users_artist[user][\"total_songs\"] for g in gg]).sum()\n",
    "    artist_probs.append(np.log(prob))"
   ]
  },
  {
   "cell_type": "code",
   "execution_count": 35,
   "id": "hispanic-oxford",
   "metadata": {},
   "outputs": [],
   "source": [
    "train['artist_probs'] = artist_probs"
   ]
  },
  {
   "cell_type": "code",
   "execution_count": 36,
   "id": "eleven-livestock",
   "metadata": {},
   "outputs": [
    {
     "data": {
      "text/plain": [
       "Index(['msno', 'song_id', 'source_system_tab', 'source_screen_name',\n",
       "       'source_type', 'target', 'city', 'age', 'gender', 'registered_via',\n",
       "       'registration_init_time', 'expiration_date', 'song_length', 'genre_ids',\n",
       "       'artist_name', 'composer', 'lyricist', 'language', 'genre_probs',\n",
       "       'lang_probs', 'artist_probs'],\n",
       "      dtype='object')"
      ]
     },
     "execution_count": 36,
     "metadata": {},
     "output_type": "execute_result"
    }
   ],
   "source": [
    "train.columns"
   ]
  },
  {
   "cell_type": "code",
   "execution_count": 37,
   "id": "insured-columbia",
   "metadata": {},
   "outputs": [
    {
     "data": {
      "text/plain": [
       "67.06340372908231"
      ]
     },
     "execution_count": 37,
     "metadata": {},
     "output_type": "execute_result"
    }
   ],
   "source": [
    "train.gender.isnull().sum() / train.gender.count() * 100"
   ]
  },
  {
   "cell_type": "code",
   "execution_count": 38,
   "id": "rough-shaft",
   "metadata": {},
   "outputs": [
    {
     "data": {
      "text/plain": [
       "0.0"
      ]
     },
     "execution_count": 38,
     "metadata": {},
     "output_type": "execute_result"
    }
   ],
   "source": [
    "train.age.isnull().sum() / train.age.count() * 100"
   ]
  },
  {
   "cell_type": "markdown",
   "id": "endangered-ribbon",
   "metadata": {},
   "source": [
    "Дропаем полупустой гендер"
   ]
  },
  {
   "cell_type": "code",
   "execution_count": 39,
   "id": "presidential-routine",
   "metadata": {},
   "outputs": [],
   "source": [
    "train.drop(labels=['gender', 'genre_ids', 'artist_name', 'composer', 'lyricist', 'language'],\n",
    "          axis=1, inplace=True)"
   ]
  },
  {
   "cell_type": "markdown",
   "id": "liked-costa",
   "metadata": {},
   "source": [
    "Из дат сохраним только год"
   ]
  },
  {
   "cell_type": "code",
   "execution_count": 40,
   "id": "current-stream",
   "metadata": {},
   "outputs": [
    {
     "name": "stderr",
     "output_type": "stream",
     "text": [
      "100%|██████████| 7377418/7377418 [00:05<00:00, 1266345.00it/s]\n"
     ]
    }
   ],
   "source": [
    "expiration = []\n",
    "for date in tqdm(train.expiration_date):\n",
    "    expiration.append(date // 10_000)"
   ]
  },
  {
   "cell_type": "code",
   "execution_count": 42,
   "id": "broken-andorra",
   "metadata": {},
   "outputs": [
    {
     "name": "stderr",
     "output_type": "stream",
     "text": [
      "100%|██████████| 7377418/7377418 [00:05<00:00, 1255211.30it/s]\n"
     ]
    }
   ],
   "source": [
    "registration = []\n",
    "for date in tqdm(train.registration_init_time):\n",
    "    registration.append(date // 10_000)"
   ]
  },
  {
   "cell_type": "code",
   "execution_count": 43,
   "id": "daily-gross",
   "metadata": {},
   "outputs": [],
   "source": [
    "train['expiration'] = expiration\n",
    "train['registration'] = registration\n",
    "\n",
    "train.drop(labels=['registration_init_time', 'expiration_date'], axis=1, inplace=True)"
   ]
  },
  {
   "cell_type": "code",
   "execution_count": 44,
   "id": "spiritual-developer",
   "metadata": {},
   "outputs": [],
   "source": [
    "def object_to_id(colname):\n",
    "    to_id = {label: i for i, label in enumerate(train[colname].unique())}\n",
    "    \n",
    "    new_col = []\n",
    "    for el in tqdm(train[colname]):\n",
    "        new_col.append(to_id[el])\n",
    "    train[colname] = new_col"
   ]
  },
  {
   "cell_type": "markdown",
   "id": "julian-prefix",
   "metadata": {},
   "source": [
    "Чтобы можно было перевести в np.ndarray, перекодируем текстовые переменные"
   ]
  },
  {
   "cell_type": "code",
   "execution_count": 45,
   "id": "equipped-scott",
   "metadata": {},
   "outputs": [
    {
     "name": "stderr",
     "output_type": "stream",
     "text": [
      "100%|██████████| 7377418/7377418 [00:04<00:00, 1589475.69it/s]\n",
      "100%|██████████| 7377418/7377418 [00:05<00:00, 1295964.06it/s]\n",
      "100%|██████████| 7377418/7377418 [00:04<00:00, 1686895.39it/s]\n",
      "100%|██████████| 7377418/7377418 [00:04<00:00, 1732855.65it/s]\n",
      "100%|██████████| 7377418/7377418 [00:04<00:00, 1582223.92it/s]\n"
     ]
    }
   ],
   "source": [
    "for col in ['msno', 'song_id', 'source_system_tab', 'source_screen_name', 'source_type']:\n",
    "    object_to_id(col)"
   ]
  },
  {
   "cell_type": "code",
   "execution_count": 46,
   "id": "decent-matter",
   "metadata": {},
   "outputs": [
    {
     "data": {
      "text/html": [
       "<div>\n",
       "<style scoped>\n",
       "    .dataframe tbody tr th:only-of-type {\n",
       "        vertical-align: middle;\n",
       "    }\n",
       "\n",
       "    .dataframe tbody tr th {\n",
       "        vertical-align: top;\n",
       "    }\n",
       "\n",
       "    .dataframe thead th {\n",
       "        text-align: right;\n",
       "    }\n",
       "</style>\n",
       "<table border=\"1\" class=\"dataframe\">\n",
       "  <thead>\n",
       "    <tr style=\"text-align: right;\">\n",
       "      <th></th>\n",
       "      <th>msno</th>\n",
       "      <th>song_id</th>\n",
       "      <th>source_system_tab</th>\n",
       "      <th>source_screen_name</th>\n",
       "      <th>source_type</th>\n",
       "      <th>target</th>\n",
       "      <th>city</th>\n",
       "      <th>age</th>\n",
       "      <th>registered_via</th>\n",
       "      <th>song_length</th>\n",
       "      <th>genre_probs</th>\n",
       "      <th>lang_probs</th>\n",
       "      <th>artist_probs</th>\n",
       "      <th>expiration</th>\n",
       "      <th>registration</th>\n",
       "    </tr>\n",
       "  </thead>\n",
       "  <tbody>\n",
       "    <tr>\n",
       "      <th>0</th>\n",
       "      <td>0</td>\n",
       "      <td>0</td>\n",
       "      <td>0</td>\n",
       "      <td>0</td>\n",
       "      <td>0</td>\n",
       "      <td>1</td>\n",
       "      <td>1</td>\n",
       "      <td>0</td>\n",
       "      <td>7</td>\n",
       "      <td>206471.0</td>\n",
       "      <td>-3.410495</td>\n",
       "      <td>-0.633110</td>\n",
       "      <td>-7.515889</td>\n",
       "      <td>2017</td>\n",
       "      <td>2012</td>\n",
       "    </tr>\n",
       "    <tr>\n",
       "      <th>1</th>\n",
       "      <td>1</td>\n",
       "      <td>1</td>\n",
       "      <td>1</td>\n",
       "      <td>1</td>\n",
       "      <td>1</td>\n",
       "      <td>1</td>\n",
       "      <td>13</td>\n",
       "      <td>24</td>\n",
       "      <td>9</td>\n",
       "      <td>284584.0</td>\n",
       "      <td>-2.541120</td>\n",
       "      <td>-1.696742</td>\n",
       "      <td>-3.254886</td>\n",
       "      <td>2017</td>\n",
       "      <td>2011</td>\n",
       "    </tr>\n",
       "    <tr>\n",
       "      <th>2</th>\n",
       "      <td>1</td>\n",
       "      <td>2</td>\n",
       "      <td>1</td>\n",
       "      <td>1</td>\n",
       "      <td>1</td>\n",
       "      <td>1</td>\n",
       "      <td>13</td>\n",
       "      <td>24</td>\n",
       "      <td>9</td>\n",
       "      <td>225396.0</td>\n",
       "      <td>-2.541120</td>\n",
       "      <td>-1.696742</td>\n",
       "      <td>-5.739793</td>\n",
       "      <td>2017</td>\n",
       "      <td>2011</td>\n",
       "    </tr>\n",
       "    <tr>\n",
       "      <th>3</th>\n",
       "      <td>1</td>\n",
       "      <td>3</td>\n",
       "      <td>1</td>\n",
       "      <td>1</td>\n",
       "      <td>1</td>\n",
       "      <td>1</td>\n",
       "      <td>13</td>\n",
       "      <td>24</td>\n",
       "      <td>9</td>\n",
       "      <td>255512.0</td>\n",
       "      <td>-6.432940</td>\n",
       "      <td>-4.130355</td>\n",
       "      <td>-6.432940</td>\n",
       "      <td>2017</td>\n",
       "      <td>2011</td>\n",
       "    </tr>\n",
       "    <tr>\n",
       "      <th>4</th>\n",
       "      <td>0</td>\n",
       "      <td>4</td>\n",
       "      <td>0</td>\n",
       "      <td>0</td>\n",
       "      <td>0</td>\n",
       "      <td>1</td>\n",
       "      <td>1</td>\n",
       "      <td>0</td>\n",
       "      <td>7</td>\n",
       "      <td>187802.0</td>\n",
       "      <td>-4.950940</td>\n",
       "      <td>-0.633110</td>\n",
       "      <td>-8.614501</td>\n",
       "      <td>2017</td>\n",
       "      <td>2012</td>\n",
       "    </tr>\n",
       "  </tbody>\n",
       "</table>\n",
       "</div>"
      ],
      "text/plain": [
       "   msno  song_id  source_system_tab  source_screen_name  source_type  target  \\\n",
       "0     0        0                  0                   0            0       1   \n",
       "1     1        1                  1                   1            1       1   \n",
       "2     1        2                  1                   1            1       1   \n",
       "3     1        3                  1                   1            1       1   \n",
       "4     0        4                  0                   0            0       1   \n",
       "\n",
       "   city  age  registered_via  song_length  genre_probs  lang_probs  \\\n",
       "0     1    0               7     206471.0    -3.410495   -0.633110   \n",
       "1    13   24               9     284584.0    -2.541120   -1.696742   \n",
       "2    13   24               9     225396.0    -2.541120   -1.696742   \n",
       "3    13   24               9     255512.0    -6.432940   -4.130355   \n",
       "4     1    0               7     187802.0    -4.950940   -0.633110   \n",
       "\n",
       "   artist_probs  expiration  registration  \n",
       "0     -7.515889        2017          2012  \n",
       "1     -3.254886        2017          2011  \n",
       "2     -5.739793        2017          2011  \n",
       "3     -6.432940        2017          2011  \n",
       "4     -8.614501        2017          2012  "
      ]
     },
     "execution_count": 46,
     "metadata": {},
     "output_type": "execute_result"
    }
   ],
   "source": [
    "train.head()"
   ]
  },
  {
   "cell_type": "code",
   "execution_count": 47,
   "id": "direct-affairs",
   "metadata": {},
   "outputs": [
    {
     "name": "stdout",
     "output_type": "stream",
     "text": [
      "msno: 0\n",
      "song_id: 0\n",
      "source_system_tab: 0\n",
      "source_screen_name: 0\n",
      "source_type: 0\n",
      "target: 0\n",
      "city: 0\n",
      "age: 0\n",
      "registered_via: 0\n",
      "song_length: 114\n",
      "genre_probs: 0\n",
      "lang_probs: 0\n",
      "artist_probs: 0\n",
      "expiration: 0\n",
      "registration: 0\n"
     ]
    }
   ],
   "source": [
    "for col in train.columns:\n",
    "    print(f'{col}: {train[col].isnull().sum()}')"
   ]
  },
  {
   "cell_type": "markdown",
   "id": "proved-vegetation",
   "metadata": {},
   "source": [
    "Занулим неизвестные длины песен"
   ]
  },
  {
   "cell_type": "code",
   "execution_count": 48,
   "id": "challenging-mirror",
   "metadata": {},
   "outputs": [],
   "source": [
    "train['song_length'] = train['song_length'].fillna(0)"
   ]
  },
  {
   "cell_type": "code",
   "execution_count": 49,
   "id": "super-arthur",
   "metadata": {},
   "outputs": [],
   "source": [
    "train.to_csv('train_new.csv')"
   ]
  },
  {
   "cell_type": "code",
   "execution_count": 107,
   "id": "liquid-wesley",
   "metadata": {},
   "outputs": [],
   "source": [
    "# train = pd.read_csv('train_new.csv')"
   ]
  },
  {
   "cell_type": "markdown",
   "id": "norwegian-variation",
   "metadata": {},
   "source": [
    "### XGBoost"
   ]
  },
  {
   "cell_type": "code",
   "execution_count": 30,
   "id": "greenhouse-anderson",
   "metadata": {},
   "outputs": [],
   "source": [
    "def train_xgboost(X: np.ndarray, y: np.ndarray, \n",
    "                  k, learning_rate, max_depth, min_child_weight, n_estimators, eval_metric):\n",
    "    kfold = KFold(n_splits=k)\n",
    "    aucs = []\n",
    "    for train_idx, test_idx in tqdm(kfold.split(X, y), total=k):\n",
    "        X_train, X_test = X[train_idx], X[test_idx]\n",
    "        y_train, y_test = y[train_idx], y[test_idx]\n",
    "        \n",
    "        model = xgb.XGBClassifier(learning_rate=learning_rate,\n",
    "                                  max_depth=max_depth,\n",
    "                                  min_child_weight=min_child_weight,\n",
    "                                  n_estimators=n_estimators,\n",
    "                                  eval_metric=eval_metric,\n",
    "                                  objective=\"binary:logistic\",\n",
    "                                  use_label_encoder=False)\n",
    "        model.fit(X_train, y_train)\n",
    "        \n",
    "        probs = model.predict_proba(X_test)\n",
    "        fpr, tpr, _ = roc_curve(y_test, probs[:, 1], pos_label=1)\n",
    "        aucs.append(auc(fpr, tpr))\n",
    "        \n",
    "    return aucs, model.feature_importances_"
   ]
  },
  {
   "cell_type": "code",
   "execution_count": 51,
   "id": "impossible-jersey",
   "metadata": {},
   "outputs": [],
   "source": [
    "config = {'k': 5,\n",
    " 'learning_rate': 0.1,\n",
    " 'max_depth': 10,\n",
    " 'min_child_weight': 5,\n",
    " 'n_estimators': 10,\n",
    " 'eval_metric': 'auc'}"
   ]
  },
  {
   "cell_type": "code",
   "execution_count": 52,
   "id": "prescribed-remains",
   "metadata": {},
   "outputs": [],
   "source": [
    "X = train.drop(labels=['target'], axis=1).to_numpy()\n",
    "y = train['target'].to_numpy()"
   ]
  },
  {
   "cell_type": "code",
   "execution_count": 53,
   "id": "proprietary-occurrence",
   "metadata": {},
   "outputs": [
    {
     "name": "stderr",
     "output_type": "stream",
     "text": [
      "100%|██████████| 5/5 [18:18<00:00, 219.69s/it]\n"
     ]
    }
   ],
   "source": [
    "aucs, feature_imp = train_xgboost(X, y, **config)"
   ]
  },
  {
   "cell_type": "code",
   "execution_count": 54,
   "id": "frank-yellow",
   "metadata": {},
   "outputs": [
    {
     "name": "stdout",
     "output_type": "stream",
     "text": [
      "Mean AUC over 5 folds = 0.6738693519287752\n"
     ]
    }
   ],
   "source": [
    "print(f'Mean AUC over 5 folds = {np.mean(aucs)}')"
   ]
  },
  {
   "cell_type": "code",
   "execution_count": 34,
   "id": "female-creature",
   "metadata": {},
   "outputs": [],
   "source": [
    "import seaborn as sns\n",
    "import matplotlib.pyplot as plt"
   ]
  },
  {
   "cell_type": "code",
   "execution_count": 65,
   "id": "southern-identification",
   "metadata": {},
   "outputs": [
    {
     "data": {
      "image/png": "[encoded data removed]",
      "text/plain": [
       "<Figure size 1296x360 with 1 Axes>"
      ]
     },
     "metadata": {
      "needs_background": "light"
     },
     "output_type": "display_data"
    }
   ],
   "source": [
    "x = train.drop(labels=['target'], axis=1).columns\n",
    "plt.figure(figsize=(18, 5))\n",
    "plt.xticks(rotation='vertical')\n",
    "sns.barplot(x=x, y=feature_imp)\n",
    "plt.title(\"Feature importance\")\n",
    "plt.show()"
   ]
  },
  {
   "cell_type": "markdown",
   "id": "synthetic-iraqi",
   "metadata": {},
   "source": [
    "## Задание 2\n",
    " \n",
    "Пользуясь информацией о треках построить неклассические эмбеддинги и попробовать использовать их:\n",
    "\n",
    "а) показать симилары глазами\n",
    "\n",
    "б) в качестве рекоммендера вместо GBDT (разницу в метриках) \n",
    "\n",
    "в) стек с GBDT (прирост / отсутствие / почему /, SHAP values)"
   ]
  },
  {
   "cell_type": "markdown",
   "id": "double-alexander",
   "metadata": {},
   "source": [
    "### Смотрим на симилары"
   ]
  },
  {
   "cell_type": "code",
   "execution_count": 3,
   "id": "immune-legislation",
   "metadata": {},
   "outputs": [],
   "source": [
    "from gensim.models import Word2Vec"
   ]
  },
  {
   "cell_type": "code",
   "execution_count": 12,
   "id": "dedicated-merit",
   "metadata": {},
   "outputs": [],
   "source": [
    "sentences = defaultdict(list)"
   ]
  },
  {
   "cell_type": "code",
   "execution_count": 13,
   "id": "jewish-republican",
   "metadata": {},
   "outputs": [
    {
     "name": "stderr",
     "output_type": "stream",
     "text": [
      "100%|██████████| 7377418/7377418 [00:09<00:00, 771955.43it/s]\n"
     ]
    }
   ],
   "source": [
    "for user, song, target in tqdm(zip(train.msno, train.song_id, train.target), total=train.shape[0]):\n",
    "    sentences[user].append(song)\n",
    "sent = []\n",
    "for user, items in sentences.items():\n",
    "    sent.append(items)"
   ]
  },
  {
   "cell_type": "code",
   "execution_count": 19,
   "id": "classified-relay",
   "metadata": {},
   "outputs": [],
   "source": [
    "config = {\n",
    "    'window': 10,\n",
    "    'vector_size': 32,\n",
    "    'sg': 1,\n",
    "    'hs': 0,\n",
    "    'negative': 10,\n",
    "    'alpha': 0.05,\n",
    "    'min_alpha': 0.0001,\n",
    "    'workers': 4,\n",
    "    'seed': 42\n",
    "}"
   ]
  },
  {
   "cell_type": "code",
   "execution_count": 15,
   "id": "relevant-hughes",
   "metadata": {},
   "outputs": [],
   "source": [
    "model = Word2Vec(**config)\n",
    "model.build_vocab(sent)"
   ]
  },
  {
   "cell_type": "code",
   "execution_count": 61,
   "id": "professional-scene",
   "metadata": {},
   "outputs": [
    {
     "data": {
      "text/plain": [
       "(110342950, 111344890)"
      ]
     },
     "execution_count": 61,
     "metadata": {},
     "output_type": "execute_result"
    }
   ],
   "source": [
    "model.train(sent, total_examples=len(sent), epochs=5)"
   ]
  },
  {
   "cell_type": "code",
   "execution_count": 4,
   "id": "rural-recipient",
   "metadata": {},
   "outputs": [],
   "source": [
    "# model.save(\"word2vec.model\")\n",
    "model = Word2Vec.load(\"word2vec.model\")"
   ]
  },
  {
   "cell_type": "code",
   "execution_count": 20,
   "id": "nasty-salem",
   "metadata": {},
   "outputs": [],
   "source": [
    "songs_ = pd.read_csv(\"data/song_extra_info.csv\")"
   ]
  },
  {
   "cell_type": "code",
   "execution_count": 29,
   "id": "occasional-newspaper",
   "metadata": {},
   "outputs": [
    {
     "data": {
      "text/html": [
       "<div>\n",
       "<style scoped>\n",
       "    .dataframe tbody tr th:only-of-type {\n",
       "        vertical-align: middle;\n",
       "    }\n",
       "\n",
       "    .dataframe tbody tr th {\n",
       "        vertical-align: top;\n",
       "    }\n",
       "\n",
       "    .dataframe thead th {\n",
       "        text-align: right;\n",
       "    }\n",
       "</style>\n",
       "<table border=\"1\" class=\"dataframe\">\n",
       "  <thead>\n",
       "    <tr style=\"text-align: right;\">\n",
       "      <th></th>\n",
       "      <th>song_id</th>\n",
       "      <th>song_length</th>\n",
       "      <th>genre_ids</th>\n",
       "      <th>artist_name</th>\n",
       "      <th>composer</th>\n",
       "      <th>lyricist</th>\n",
       "      <th>language</th>\n",
       "      <th>name</th>\n",
       "      <th>isrc</th>\n",
       "    </tr>\n",
       "  </thead>\n",
       "  <tbody>\n",
       "    <tr>\n",
       "      <th>0</th>\n",
       "      <td>CXoTN1eb7AI+DntdU1vbcwGRV4SCIDxZu+YD8JP8r4E=</td>\n",
       "      <td>247640</td>\n",
       "      <td>465</td>\n",
       "      <td>張信哲 (Jeff Chang)</td>\n",
       "      <td>董貞</td>\n",
       "      <td>何啟弘</td>\n",
       "      <td>3.0</td>\n",
       "      <td>焚情</td>\n",
       "      <td>TWB531410010</td>\n",
       "    </tr>\n",
       "    <tr>\n",
       "      <th>1</th>\n",
       "      <td>o0kFgae9QtnYgRkVPqLJwa05zIhRlUjfF7O1tDw0ZDU=</td>\n",
       "      <td>197328</td>\n",
       "      <td>444</td>\n",
       "      <td>BLACKPINK</td>\n",
       "      <td>TEDDY|  FUTURE BOUNCE|  Bekuh BOOM</td>\n",
       "      <td>TEDDY</td>\n",
       "      <td>31.0</td>\n",
       "      <td>PLAYING WITH FIRE</td>\n",
       "      <td>NaN</td>\n",
       "    </tr>\n",
       "    <tr>\n",
       "      <th>2</th>\n",
       "      <td>DwVvVurfpuz+XPuFvucclVQEyPqcpUkHR0ne1RQzPs0=</td>\n",
       "      <td>231781</td>\n",
       "      <td>465</td>\n",
       "      <td>SUPER JUNIOR</td>\n",
       "      <td>NaN</td>\n",
       "      <td>NaN</td>\n",
       "      <td>31.0</td>\n",
       "      <td>SORRY| SORRY</td>\n",
       "      <td>NaN</td>\n",
       "    </tr>\n",
       "    <tr>\n",
       "      <th>3</th>\n",
       "      <td>dKMBWoZyScdxSkihKG+Vf47nc18N9q4m58+b4e7dSSE=</td>\n",
       "      <td>273554</td>\n",
       "      <td>465</td>\n",
       "      <td>S.H.E</td>\n",
       "      <td>湯小康</td>\n",
       "      <td>徐世珍</td>\n",
       "      <td>3.0</td>\n",
       "      <td>愛我的資格</td>\n",
       "      <td>TWC950206108</td>\n",
       "    </tr>\n",
       "    <tr>\n",
       "      <th>4</th>\n",
       "      <td>W3bqWd3T+VeHFzHAUfARgW9AvVRaF4N5Yzm4Mr6Eo/o=</td>\n",
       "      <td>140329</td>\n",
       "      <td>726</td>\n",
       "      <td>貴族精選</td>\n",
       "      <td>Traditional</td>\n",
       "      <td>Traditional</td>\n",
       "      <td>52.0</td>\n",
       "      <td>Mary Had a Little Lamb</td>\n",
       "      <td>NaN</td>\n",
       "    </tr>\n",
       "  </tbody>\n",
       "</table>\n",
       "</div>"
      ],
      "text/plain": [
       "                                        song_id  song_length genre_ids  \\\n",
       "0  CXoTN1eb7AI+DntdU1vbcwGRV4SCIDxZu+YD8JP8r4E=       247640       465   \n",
       "1  o0kFgae9QtnYgRkVPqLJwa05zIhRlUjfF7O1tDw0ZDU=       197328       444   \n",
       "2  DwVvVurfpuz+XPuFvucclVQEyPqcpUkHR0ne1RQzPs0=       231781       465   \n",
       "3  dKMBWoZyScdxSkihKG+Vf47nc18N9q4m58+b4e7dSSE=       273554       465   \n",
       "4  W3bqWd3T+VeHFzHAUfARgW9AvVRaF4N5Yzm4Mr6Eo/o=       140329       726   \n",
       "\n",
       "        artist_name                            composer     lyricist  \\\n",
       "0  張信哲 (Jeff Chang)                                  董貞          何啟弘   \n",
       "1         BLACKPINK  TEDDY|  FUTURE BOUNCE|  Bekuh BOOM        TEDDY   \n",
       "2      SUPER JUNIOR                                 NaN          NaN   \n",
       "3             S.H.E                                 湯小康          徐世珍   \n",
       "4              貴族精選                         Traditional  Traditional   \n",
       "\n",
       "   language                    name          isrc  \n",
       "0       3.0                      焚情  TWB531410010  \n",
       "1      31.0       PLAYING WITH FIRE           NaN  \n",
       "2      31.0            SORRY| SORRY           NaN  \n",
       "3       3.0                   愛我的資格  TWC950206108  \n",
       "4      52.0  Mary Had a Little Lamb           NaN  "
      ]
     },
     "execution_count": 29,
     "metadata": {},
     "output_type": "execute_result"
    }
   ],
   "source": [
    "songs = songs.merge(songs_, on='song_id', how='left')\n",
    "songs.head()"
   ]
  },
  {
   "cell_type": "code",
   "execution_count": 24,
   "id": "flexible-jaguar",
   "metadata": {},
   "outputs": [],
   "source": [
    "song = 'o0kFgae9QtnYgRkVPqLJwa05zIhRlUjfF7O1tDw0ZDU='"
   ]
  },
  {
   "cell_type": "code",
   "execution_count": 45,
   "id": "minute-maximum",
   "metadata": {},
   "outputs": [
    {
     "name": "stdout",
     "output_type": "stream",
     "text": [
      "10 songs similar to PLAYING WITH FIRE  by BLACKPINK:\n",
      "\n",
      "BOOMBAYAH by BLACKPINK, similarity = 0.966\n",
      "Blood Sweat & Tears by BANGTAN BOYS, similarity = 0.952\n",
      "WHISTLE by BLACKPINK, similarity = 0.941\n",
      "STAY by BLACKPINK, similarity = 0.94\n",
      "Russian Roulette by Red Velvet, similarity = 0.93\n",
      "L.I.E by EXID, similarity = 0.92\n",
      "Burning Up (FIRE) by BANGTAN BOYS, similarity = 0.919\n",
      "眼| 鼻| 口 (Eyes| Nose| Lips) by BIGBANG TAEYANG, similarity = 0.919\n",
      "Very Very Very by I.O.I, similarity = 0.914\n",
      "11:11 by Taeyeon, similarity = 0.913\n"
     ]
    }
   ],
   "source": [
    "sims = model.wv.most_similar(song, topn=10)\n",
    "print(f'10 songs similar to {songs[songs.song_id == song].name.iloc[0]} ',\n",
    "      f'by {songs[songs.song_id == song].artist_name.iloc[0]}:')\n",
    "print()\n",
    "for song_id, similarity in sims:\n",
    "    song_info = songs[songs.song_id == song_id]\n",
    "    print(f'{song_info.name.iloc[0]} by {song_info.artist_name.iloc[0]}, similarity = {round(similarity, 3)}')"
   ]
  },
  {
   "cell_type": "markdown",
   "id": "traditional-louis",
   "metadata": {},
   "source": [
    "Кажется, что на k-pop песню он рекомендует также k-pop песни, включая ту же группу. Значит, в целом, работает неплохо."
   ]
  },
  {
   "cell_type": "markdown",
   "id": "appropriate-turtle",
   "metadata": {},
   "source": [
    "### Word2Vec вместо GBDT"
   ]
  },
  {
   "cell_type": "code",
   "execution_count": 17,
   "id": "drawn-vancouver",
   "metadata": {},
   "outputs": [],
   "source": [
    "from scipy.spatial.distance import cosine\n",
    "from sklearn.metrics.pairwise import cosine_similarity\n",
    "from sklearn.metrics import roc_auc_score"
   ]
  },
  {
   "cell_type": "code",
   "execution_count": 11,
   "id": "practical-examination",
   "metadata": {},
   "outputs": [],
   "source": [
    "current_emb = defaultdict(lambda: np.zeros(32))\n",
    "embeddings = defaultdict(dict)\n",
    "cnt = defaultdict(int)\n",
    "\n",
    "emb = np.zeros((train.shape[0], 32))\n",
    "\n",
    "msnos = train.msno.unique()"
   ]
  },
  {
   "cell_type": "code",
   "execution_count": 15,
   "id": "removable-stack",
   "metadata": {},
   "outputs": [
    {
     "name": "stderr",
     "output_type": "stream",
     "text": [
      "100%|██████████| 7377418/7377418 [00:41<00:00, 177882.08it/s]\n"
     ]
    }
   ],
   "source": [
    "user_embeddings = defaultdict(lambda: np.zeros(32))\n",
    "cnt = defaultdict(int)\n",
    "\n",
    "# getting the sum of embeddings for each user\n",
    "for user, song, target in tqdm(zip(train.msno, train.song_id, train.target), total=train.shape[0]):\n",
    "    if not target:\n",
    "        continue\n",
    "    user_embeddings[user] += model.wv[song]\n",
    "    cnt[user] += 1\n",
    "\n",
    "# averaging the sum of embeddings\n",
    "\n",
    "# for user in user_embeddings.keys():\n",
    "#     user_embeddings[user] /= cnt[user]"
   ]
  },
  {
   "cell_type": "code",
   "execution_count": 22,
   "id": "molecular-tablet",
   "metadata": {},
   "outputs": [
    {
     "name": "stderr",
     "output_type": "stream",
     "text": [
      "100%|██████████| 7377418/7377418 [54:59<00:00, 2235.80it/s]  \n"
     ]
    }
   ],
   "source": [
    "scores = []\n",
    "for user, song, target in tqdm(zip(train.msno, train.song_id, train.target), total=train.shape[0]):\n",
    "    user_emb = user_embeddings[user].copy()\n",
    "    try:\n",
    "        song_emb = model.wv[song]\n",
    "    except KeyError:\n",
    "        song_emb = np.zeros(config['vector_size'])\n",
    "    \n",
    "    # avoiding the leak\n",
    "    if target:\n",
    "        user_emb -= song_emb\n",
    "        if cnt[user] - 1:\n",
    "            user_emb /= (cnt[user] - 1)\n",
    "    score = cosine_similarity(user_emb.reshape(1, -1), song_emb.reshape(1, -1))\n",
    "    scores.append(score.item())"
   ]
  },
  {
   "cell_type": "code",
   "execution_count": 23,
   "id": "secure-scheme",
   "metadata": {},
   "outputs": [
    {
     "name": "stdout",
     "output_type": "stream",
     "text": [
      "AUC = 0.6892585658597024\n"
     ]
    }
   ],
   "source": [
    "fpr, tpr, _ = roc_curve(train.target.values, np.array(scores), pos_label=1)\n",
    "print(f\"AUC = {auc(fpr, tpr)}\")"
   ]
  },
  {
   "cell_type": "markdown",
   "id": "stuffed-angola",
   "metadata": {},
   "source": [
    "AUC стал выше на 0.01 пункта"
   ]
  },
  {
   "cell_type": "markdown",
   "id": "sublime-loading",
   "metadata": {},
   "source": [
    "### Стек с GBDT"
   ]
  },
  {
   "cell_type": "code",
   "execution_count": 24,
   "id": "ready-production",
   "metadata": {},
   "outputs": [
    {
     "name": "stderr",
     "output_type": "stream",
     "text": [
      "/usr/local/lib/python3.8/site-packages/numpy/lib/arraysetops.py:583: FutureWarning: elementwise comparison failed; returning scalar instead, but in the future will perform elementwise comparison\n",
      "  mask |= (ar1 == a)\n"
     ]
    }
   ],
   "source": [
    "train = pd.read_csv('train_new.csv', index_col=0)\n",
    "train['scores'] = scores"
   ]
  },
  {
   "cell_type": "code",
   "execution_count": 25,
   "id": "discrete-medicaid",
   "metadata": {},
   "outputs": [
    {
     "data": {
      "text/html": [
       "<div>\n",
       "<style scoped>\n",
       "    .dataframe tbody tr th:only-of-type {\n",
       "        vertical-align: middle;\n",
       "    }\n",
       "\n",
       "    .dataframe tbody tr th {\n",
       "        vertical-align: top;\n",
       "    }\n",
       "\n",
       "    .dataframe thead th {\n",
       "        text-align: right;\n",
       "    }\n",
       "</style>\n",
       "<table border=\"1\" class=\"dataframe\">\n",
       "  <thead>\n",
       "    <tr style=\"text-align: right;\">\n",
       "      <th></th>\n",
       "      <th>msno</th>\n",
       "      <th>song_id</th>\n",
       "      <th>source_system_tab</th>\n",
       "      <th>source_screen_name</th>\n",
       "      <th>source_type</th>\n",
       "      <th>target</th>\n",
       "      <th>city</th>\n",
       "      <th>age</th>\n",
       "      <th>registered_via</th>\n",
       "      <th>song_length</th>\n",
       "      <th>genre_probs</th>\n",
       "      <th>lang_probs</th>\n",
       "      <th>artist_probs</th>\n",
       "      <th>expiration</th>\n",
       "      <th>registration</th>\n",
       "      <th>scores</th>\n",
       "    </tr>\n",
       "  </thead>\n",
       "  <tbody>\n",
       "    <tr>\n",
       "      <th>0</th>\n",
       "      <td>0</td>\n",
       "      <td>0</td>\n",
       "      <td>0</td>\n",
       "      <td>0</td>\n",
       "      <td>0</td>\n",
       "      <td>1</td>\n",
       "      <td>1</td>\n",
       "      <td>0</td>\n",
       "      <td>7</td>\n",
       "      <td>206471.0</td>\n",
       "      <td>-3.410495</td>\n",
       "      <td>-0.633110</td>\n",
       "      <td>-7.515889</td>\n",
       "      <td>2017</td>\n",
       "      <td>2012</td>\n",
       "      <td>0.578362</td>\n",
       "    </tr>\n",
       "    <tr>\n",
       "      <th>1</th>\n",
       "      <td>1</td>\n",
       "      <td>1</td>\n",
       "      <td>1</td>\n",
       "      <td>1</td>\n",
       "      <td>1</td>\n",
       "      <td>1</td>\n",
       "      <td>13</td>\n",
       "      <td>24</td>\n",
       "      <td>9</td>\n",
       "      <td>284584.0</td>\n",
       "      <td>-2.541120</td>\n",
       "      <td>-1.696742</td>\n",
       "      <td>-3.254886</td>\n",
       "      <td>2017</td>\n",
       "      <td>2011</td>\n",
       "      <td>0.613395</td>\n",
       "    </tr>\n",
       "    <tr>\n",
       "      <th>2</th>\n",
       "      <td>1</td>\n",
       "      <td>2</td>\n",
       "      <td>1</td>\n",
       "      <td>1</td>\n",
       "      <td>1</td>\n",
       "      <td>1</td>\n",
       "      <td>13</td>\n",
       "      <td>24</td>\n",
       "      <td>9</td>\n",
       "      <td>225396.0</td>\n",
       "      <td>-2.541120</td>\n",
       "      <td>-1.696742</td>\n",
       "      <td>-5.739793</td>\n",
       "      <td>2017</td>\n",
       "      <td>2011</td>\n",
       "      <td>0.537892</td>\n",
       "    </tr>\n",
       "    <tr>\n",
       "      <th>3</th>\n",
       "      <td>1</td>\n",
       "      <td>3</td>\n",
       "      <td>1</td>\n",
       "      <td>1</td>\n",
       "      <td>1</td>\n",
       "      <td>1</td>\n",
       "      <td>13</td>\n",
       "      <td>24</td>\n",
       "      <td>9</td>\n",
       "      <td>255512.0</td>\n",
       "      <td>-6.432940</td>\n",
       "      <td>-4.130355</td>\n",
       "      <td>-6.432940</td>\n",
       "      <td>2017</td>\n",
       "      <td>2011</td>\n",
       "      <td>0.638238</td>\n",
       "    </tr>\n",
       "    <tr>\n",
       "      <th>4</th>\n",
       "      <td>0</td>\n",
       "      <td>4</td>\n",
       "      <td>0</td>\n",
       "      <td>0</td>\n",
       "      <td>0</td>\n",
       "      <td>1</td>\n",
       "      <td>1</td>\n",
       "      <td>0</td>\n",
       "      <td>7</td>\n",
       "      <td>187802.0</td>\n",
       "      <td>-4.950940</td>\n",
       "      <td>-0.633110</td>\n",
       "      <td>-8.614501</td>\n",
       "      <td>2017</td>\n",
       "      <td>2012</td>\n",
       "      <td>0.486537</td>\n",
       "    </tr>\n",
       "  </tbody>\n",
       "</table>\n",
       "</div>"
      ],
      "text/plain": [
       "   msno  song_id  source_system_tab  source_screen_name  source_type  target  \\\n",
       "0     0        0                  0                   0            0       1   \n",
       "1     1        1                  1                   1            1       1   \n",
       "2     1        2                  1                   1            1       1   \n",
       "3     1        3                  1                   1            1       1   \n",
       "4     0        4                  0                   0            0       1   \n",
       "\n",
       "   city  age  registered_via  song_length  genre_probs  lang_probs  \\\n",
       "0     1    0               7     206471.0    -3.410495   -0.633110   \n",
       "1    13   24               9     284584.0    -2.541120   -1.696742   \n",
       "2    13   24               9     225396.0    -2.541120   -1.696742   \n",
       "3    13   24               9     255512.0    -6.432940   -4.130355   \n",
       "4     1    0               7     187802.0    -4.950940   -0.633110   \n",
       "\n",
       "   artist_probs  expiration  registration    scores  \n",
       "0     -7.515889        2017          2012  0.578362  \n",
       "1     -3.254886        2017          2011  0.613395  \n",
       "2     -5.739793        2017          2011  0.537892  \n",
       "3     -6.432940        2017          2011  0.638238  \n",
       "4     -8.614501        2017          2012  0.486537  "
      ]
     },
     "execution_count": 25,
     "metadata": {},
     "output_type": "execute_result"
    }
   ],
   "source": [
    "train.head()"
   ]
  },
  {
   "cell_type": "code",
   "execution_count": 26,
   "id": "applied-partner",
   "metadata": {},
   "outputs": [],
   "source": [
    "train.to_csv('train_scores.csv', index=False)\n",
    "# train = pd.read_csv('train_scores.csv')"
   ]
  },
  {
   "cell_type": "code",
   "execution_count": 27,
   "id": "emerging-identifier",
   "metadata": {},
   "outputs": [],
   "source": [
    "config = {'k': 5,\n",
    " 'learning_rate': 0.1,\n",
    " 'max_depth': 10,\n",
    " 'min_child_weight': 5,\n",
    " 'n_estimators': 10,\n",
    " 'eval_metric': 'auc'}"
   ]
  },
  {
   "cell_type": "code",
   "execution_count": 28,
   "id": "mathematical-prince",
   "metadata": {},
   "outputs": [],
   "source": [
    "X = train.drop(labels=['target'], axis=1).to_numpy()\n",
    "y = train['target'].to_numpy()"
   ]
  },
  {
   "cell_type": "code",
   "execution_count": 31,
   "id": "numerical-justice",
   "metadata": {},
   "outputs": [
    {
     "name": "stderr",
     "output_type": "stream",
     "text": [
      "100%|██████████| 5/5 [17:17<00:00, 207.46s/it]\n"
     ]
    }
   ],
   "source": [
    "aucs, feature_imp = train_xgboost(X, y, **config)"
   ]
  },
  {
   "cell_type": "code",
   "execution_count": 32,
   "id": "experienced-series",
   "metadata": {},
   "outputs": [
    {
     "name": "stdout",
     "output_type": "stream",
     "text": [
      "Mean AUC over 5 folds = 0.7439694876592136\n"
     ]
    }
   ],
   "source": [
    "print(f'Mean AUC over 5 folds = {np.mean(aucs)}')"
   ]
  },
  {
   "cell_type": "markdown",
   "id": "quick-toilet",
   "metadata": {},
   "source": [
    "Результат улучшился почти на 0.06 пункта. Посмотрим на важность фичей:"
   ]
  },
  {
   "cell_type": "code",
   "execution_count": 35,
   "id": "utility-responsibility",
   "metadata": {},
   "outputs": [
    {
     "data": {
      "image/png": "[encoded data removed]",
      "text/plain": [
       "<Figure size 1296x360 with 1 Axes>"
      ]
     },
     "metadata": {
      "needs_background": "light"
     },
     "output_type": "display_data"
    }
   ],
   "source": [
    "x = train.drop(labels=['target'], axis=1).columns\n",
    "plt.figure(figsize=(18, 5))\n",
    "plt.xticks(rotation='vertical')\n",
    "sns.barplot(x=x, y=feature_imp)\n",
    "plt.title(\"Feature importance\")\n",
    "plt.show()"
   ]
  },
  {
   "cell_type": "code",
   "execution_count": 36,
   "id": "attempted-sudan",
   "metadata": {},
   "outputs": [],
   "source": [
    "import shap"
   ]
  },
  {
   "cell_type": "code",
   "execution_count": 37,
   "id": "sufficient-packaging",
   "metadata": {},
   "outputs": [
    {
     "name": "stdout",
     "output_type": "stream",
     "text": [
      "[19:21:06] WARNING: /Users/travis/build/dmlc/xgboost/src/learner.cc:576: \n",
      "Parameters: { \"k\" } might not be used.\n",
      "\n",
      "  This could be a false alarm, with some parameters getting used by language bindings but\n",
      "  then being mistakenly passed down to XGBoost core, or some parameter actually being used\n",
      "  but getting flagged wrongly here. Please open an issue if you find any such cases.\n",
      "\n",
      "\n"
     ]
    },
    {
     "data": {
      "text/plain": [
       "XGBClassifier(base_score=0.5, booster='gbtree', colsample_bylevel=1,\n",
       "              colsample_bynode=1, colsample_bytree=1, enable_categorical=False,\n",
       "              eval_metric='auc', gamma=0, gpu_id=-1, importance_type=None,\n",
       "              interaction_constraints='', k=5, learning_rate=0.1,\n",
       "              max_delta_step=0, max_depth=10, min_child_weight=5, missing=nan,\n",
       "              monotone_constraints='()', n_estimators=10, n_jobs=4,\n",
       "              num_parallel_tree=1, predictor='auto', random_state=0,\n",
       "              reg_alpha=0, reg_lambda=1, scale_pos_weight=1, subsample=1,\n",
       "              tree_method='approx', use_label_encoder=False,\n",
       "              validate_parameters=1, ...)"
      ]
     },
     "execution_count": 37,
     "metadata": {},
     "output_type": "execute_result"
    }
   ],
   "source": [
    "model = xgb.XGBClassifier(**config,\n",
    "                          objective=\"binary:logistic\",\n",
    "                          use_label_encoder=False)\n",
    "model.fit(X, y)"
   ]
  },
  {
   "cell_type": "code",
   "execution_count": 38,
   "id": "fourth-graham",
   "metadata": {},
   "outputs": [],
   "source": [
    "X_ = train.sample(100, replace=False).drop(labels=['target'], axis=1)"
   ]
  },
  {
   "cell_type": "code",
   "execution_count": 39,
   "id": "collective-details",
   "metadata": {},
   "outputs": [
    {
     "name": "stderr",
     "output_type": "stream",
     "text": [
      "ntree_limit is deprecated, use `iteration_range` or model slicing instead.\n"
     ]
    }
   ],
   "source": [
    "explainer = shap.TreeExplainer(model) #feature_perturbation='tree_path_dependent')\n",
    "shap_values = explainer.shap_values(X_)"
   ]
  },
  {
   "cell_type": "code",
   "execution_count": 40,
   "id": "baking-advisory",
   "metadata": {},
   "outputs": [
    {
     "data": {
      "image/png": "[encoded data removed]",
      "text/plain": [
       "<Figure size 576x540 with 2 Axes>"
      ]
     },
     "metadata": {
      "needs_background": "light"
     },
     "output_type": "display_data"
    }
   ],
   "source": [
    "shap.summary_plot(shap_values, X_)"
   ]
  },
  {
   "cell_type": "markdown",
   "id": "closed-attraction",
   "metadata": {},
   "source": [
    "Полученные word2vec скоры больше всего влияют на результат решений модели. То же самое видно и из feature importance графика."
   ]
  },
  {
   "cell_type": "code",
   "execution_count": null,
   "id": "opponent-difficulty",
   "metadata": {},
   "outputs": [],
   "source": []
  }
 ],
 "metadata": {
  "kernelspec": {
   "display_name": "Python 3",
   "language": "python",
   "name": "python3"
  },
  "language_info": {
   "codemirror_mode": {
    "name": "ipython",
    "version": 3
   },
   "file_extension": ".py",
   "mimetype": "text/x-python",
   "name": "python",
   "nbconvert_exporter": "python",
   "pygments_lexer": "ipython3",
   "version": "3.8.5"
  }
 },
 "nbformat": 4,
 "nbformat_minor": 5
}
