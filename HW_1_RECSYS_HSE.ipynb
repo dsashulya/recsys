{
 "cells": [
  {
   "cell_type": "markdown",
   "metadata": {},
   "source": [
    "### Матричные факторизации"
   ]
  },
  {
   "cell_type": "markdown",
   "metadata": {},
   "source": [
    "В данной работе вам предстоит познакомиться с практической стороной матричных разложений.\n",
    "Работа поделена на 4 задания:\n",
    "1. Вам необходимо реализовать SVD разложения используя SGD на explicit данных\n",
    "2. Вам необходимо реализовать матричное разложения используя ALS на implicit данных\n",
    "3. Вам необходимо реализовать матричное разложения используя BPR на implicit данных\n",
    "4. Вам необходимо реализовать матричное разложения используя WARP на implicit данных\n",
    "\n",
    "Мягкий дедлайн 13 Октября (пишутся замечания, выставляется оценка, есть возможность исправить до жесткого дедлайна)\n",
    "\n",
    "Жесткий дедлайн 20 Октября (Итоговая проверка)"
   ]
  },
  {
   "cell_type": "code",
   "execution_count": 1,
   "metadata": {},
   "outputs": [
    {
     "name": "stderr",
     "output_type": "stream",
     "text": [
      "/usr/local/lib/python3.8/site-packages/lightfm/_lightfm_fast.py:9: UserWarning: LightFM was compiled without OpenMP support. Only a single thread will be used.\n",
      "  warnings.warn(\n"
     ]
    }
   ],
   "source": [
    "import implicit\n",
    "import pandas as pd\n",
    "import numpy as np\n",
    "import scipy.sparse as sp\n",
    "from tqdm import tqdm\n",
    "from sklearn.metrics.pairwise import cosine_distances\n",
    "\n",
    "from lightfm.datasets import fetch_movielens"
   ]
  },
  {
   "cell_type": "markdown",
   "metadata": {},
   "source": [
    "В данной работе мы будем работать с explicit датасетом movieLens, в котором представленны пары user_id movie_id и rating выставленный пользователем фильму\n",
    "\n",
    "Скачать датасет можно по ссылке https://grouplens.org/datasets/movielens/1m/"
   ]
  },
  {
   "cell_type": "code",
   "execution_count": 2,
   "metadata": {},
   "outputs": [],
   "source": [
    "ratings = pd.read_csv('ml-1m/ratings.dat', delimiter='::', header=None, \n",
    "        names=['user_id', 'movie_id', 'rating', 'timestamp'], \n",
    "        usecols=['user_id', 'movie_id', 'rating'], engine='python')"
   ]
  },
  {
   "cell_type": "code",
   "execution_count": 3,
   "metadata": {},
   "outputs": [],
   "source": [
    "movie_info = pd.read_csv('ml-1m/movies.dat', delimiter='::', header=None, \n",
    "        names=['movie_id', 'name', 'category'], engine='python')"
   ]
  },
  {
   "cell_type": "markdown",
   "metadata": {},
   "source": [
    "Explicit данные"
   ]
  },
  {
   "cell_type": "code",
   "execution_count": 4,
   "metadata": {},
   "outputs": [
    {
     "data": {
      "text/html": [
       "<div>\n",
       "<style scoped>\n",
       "    .dataframe tbody tr th:only-of-type {\n",
       "        vertical-align: middle;\n",
       "    }\n",
       "\n",
       "    .dataframe tbody tr th {\n",
       "        vertical-align: top;\n",
       "    }\n",
       "\n",
       "    .dataframe thead th {\n",
       "        text-align: right;\n",
       "    }\n",
       "</style>\n",
       "<table border=\"1\" class=\"dataframe\">\n",
       "  <thead>\n",
       "    <tr style=\"text-align: right;\">\n",
       "      <th></th>\n",
       "      <th>user_id</th>\n",
       "      <th>movie_id</th>\n",
       "      <th>rating</th>\n",
       "    </tr>\n",
       "  </thead>\n",
       "  <tbody>\n",
       "    <tr>\n",
       "      <th>0</th>\n",
       "      <td>1</td>\n",
       "      <td>1193</td>\n",
       "      <td>5</td>\n",
       "    </tr>\n",
       "    <tr>\n",
       "      <th>1</th>\n",
       "      <td>1</td>\n",
       "      <td>661</td>\n",
       "      <td>3</td>\n",
       "    </tr>\n",
       "    <tr>\n",
       "      <th>2</th>\n",
       "      <td>1</td>\n",
       "      <td>914</td>\n",
       "      <td>3</td>\n",
       "    </tr>\n",
       "    <tr>\n",
       "      <th>3</th>\n",
       "      <td>1</td>\n",
       "      <td>3408</td>\n",
       "      <td>4</td>\n",
       "    </tr>\n",
       "    <tr>\n",
       "      <th>4</th>\n",
       "      <td>1</td>\n",
       "      <td>2355</td>\n",
       "      <td>5</td>\n",
       "    </tr>\n",
       "    <tr>\n",
       "      <th>5</th>\n",
       "      <td>1</td>\n",
       "      <td>1197</td>\n",
       "      <td>3</td>\n",
       "    </tr>\n",
       "    <tr>\n",
       "      <th>6</th>\n",
       "      <td>1</td>\n",
       "      <td>1287</td>\n",
       "      <td>5</td>\n",
       "    </tr>\n",
       "    <tr>\n",
       "      <th>7</th>\n",
       "      <td>1</td>\n",
       "      <td>2804</td>\n",
       "      <td>5</td>\n",
       "    </tr>\n",
       "    <tr>\n",
       "      <th>8</th>\n",
       "      <td>1</td>\n",
       "      <td>594</td>\n",
       "      <td>4</td>\n",
       "    </tr>\n",
       "    <tr>\n",
       "      <th>9</th>\n",
       "      <td>1</td>\n",
       "      <td>919</td>\n",
       "      <td>4</td>\n",
       "    </tr>\n",
       "  </tbody>\n",
       "</table>\n",
       "</div>"
      ],
      "text/plain": [
       "   user_id  movie_id  rating\n",
       "0        1      1193       5\n",
       "1        1       661       3\n",
       "2        1       914       3\n",
       "3        1      3408       4\n",
       "4        1      2355       5\n",
       "5        1      1197       3\n",
       "6        1      1287       5\n",
       "7        1      2804       5\n",
       "8        1       594       4\n",
       "9        1       919       4"
      ]
     },
     "execution_count": 4,
     "metadata": {},
     "output_type": "execute_result"
    }
   ],
   "source": [
    "ratings.head(10)"
   ]
  },
  {
   "cell_type": "markdown",
   "metadata": {},
   "source": [
    "Для того, чтобы преобразовать текущий датасет в Implicit, давайте считать что позитивная оценка это оценка >=4"
   ]
  },
  {
   "cell_type": "code",
   "execution_count": 5,
   "metadata": {},
   "outputs": [],
   "source": [
    "implicit_ratings = ratings.loc[(ratings['rating'] >= 4)]"
   ]
  },
  {
   "cell_type": "code",
   "execution_count": 6,
   "metadata": {},
   "outputs": [
    {
     "data": {
      "text/html": [
       "<div>\n",
       "<style scoped>\n",
       "    .dataframe tbody tr th:only-of-type {\n",
       "        vertical-align: middle;\n",
       "    }\n",
       "\n",
       "    .dataframe tbody tr th {\n",
       "        vertical-align: top;\n",
       "    }\n",
       "\n",
       "    .dataframe thead th {\n",
       "        text-align: right;\n",
       "    }\n",
       "</style>\n",
       "<table border=\"1\" class=\"dataframe\">\n",
       "  <thead>\n",
       "    <tr style=\"text-align: right;\">\n",
       "      <th></th>\n",
       "      <th>user_id</th>\n",
       "      <th>movie_id</th>\n",
       "      <th>rating</th>\n",
       "    </tr>\n",
       "  </thead>\n",
       "  <tbody>\n",
       "    <tr>\n",
       "      <th>0</th>\n",
       "      <td>1</td>\n",
       "      <td>1193</td>\n",
       "      <td>5</td>\n",
       "    </tr>\n",
       "    <tr>\n",
       "      <th>3</th>\n",
       "      <td>1</td>\n",
       "      <td>3408</td>\n",
       "      <td>4</td>\n",
       "    </tr>\n",
       "    <tr>\n",
       "      <th>4</th>\n",
       "      <td>1</td>\n",
       "      <td>2355</td>\n",
       "      <td>5</td>\n",
       "    </tr>\n",
       "    <tr>\n",
       "      <th>6</th>\n",
       "      <td>1</td>\n",
       "      <td>1287</td>\n",
       "      <td>5</td>\n",
       "    </tr>\n",
       "    <tr>\n",
       "      <th>7</th>\n",
       "      <td>1</td>\n",
       "      <td>2804</td>\n",
       "      <td>5</td>\n",
       "    </tr>\n",
       "    <tr>\n",
       "      <th>8</th>\n",
       "      <td>1</td>\n",
       "      <td>594</td>\n",
       "      <td>4</td>\n",
       "    </tr>\n",
       "    <tr>\n",
       "      <th>9</th>\n",
       "      <td>1</td>\n",
       "      <td>919</td>\n",
       "      <td>4</td>\n",
       "    </tr>\n",
       "    <tr>\n",
       "      <th>10</th>\n",
       "      <td>1</td>\n",
       "      <td>595</td>\n",
       "      <td>5</td>\n",
       "    </tr>\n",
       "    <tr>\n",
       "      <th>11</th>\n",
       "      <td>1</td>\n",
       "      <td>938</td>\n",
       "      <td>4</td>\n",
       "    </tr>\n",
       "    <tr>\n",
       "      <th>12</th>\n",
       "      <td>1</td>\n",
       "      <td>2398</td>\n",
       "      <td>4</td>\n",
       "    </tr>\n",
       "  </tbody>\n",
       "</table>\n",
       "</div>"
      ],
      "text/plain": [
       "    user_id  movie_id  rating\n",
       "0         1      1193       5\n",
       "3         1      3408       4\n",
       "4         1      2355       5\n",
       "6         1      1287       5\n",
       "7         1      2804       5\n",
       "8         1       594       4\n",
       "9         1       919       4\n",
       "10        1       595       5\n",
       "11        1       938       4\n",
       "12        1      2398       4"
      ]
     },
     "execution_count": 6,
     "metadata": {},
     "output_type": "execute_result"
    }
   ],
   "source": [
    "implicit_ratings.head(10)"
   ]
  },
  {
   "cell_type": "markdown",
   "metadata": {},
   "source": [
    "Удобнее работать с sparse матричками, давайте преобразуем DataFrame в CSR матрицы"
   ]
  },
  {
   "cell_type": "code",
   "execution_count": 7,
   "metadata": {},
   "outputs": [],
   "source": [
    "users = implicit_ratings[\"user_id\"]\n",
    "movies = implicit_ratings[\"movie_id\"]\n",
    "user_item = sp.coo_matrix((np.ones_like(users), (users, movies)))\n",
    "user_item_t_csr = user_item.T.tocsr()\n",
    "user_item_csr = user_item.tocsr()"
   ]
  },
  {
   "cell_type": "markdown",
   "metadata": {},
   "source": [
    "В качестве примера воспользуемся ALS разложением из библиотеки implicit\n",
    "\n",
    "Зададим размерность латентного пространства равным 64, это же определяет размер user/item эмбедингов"
   ]
  },
  {
   "cell_type": "code",
   "execution_count": 8,
   "metadata": {},
   "outputs": [
    {
     "name": "stderr",
     "output_type": "stream",
     "text": [
      "WARNING:root:OpenBLAS detected. Its highly recommend to set the environment variable 'export OPENBLAS_NUM_THREADS=1' to disable its internal multithreading\n"
     ]
    }
   ],
   "source": [
    "model = implicit.als.AlternatingLeastSquares(factors=64, iterations=100, calculate_training_loss=True)"
   ]
  },
  {
   "cell_type": "markdown",
   "metadata": {},
   "source": [
    "В качестве loss здесь всеми любимый RMSE"
   ]
  },
  {
   "cell_type": "code",
   "execution_count": 9,
   "metadata": {},
   "outputs": [
    {
     "data": {
      "application/vnd.jupyter.widget-view+json": {
       "model_id": "be899547fe83455f8e0dc4d47af28ded",
       "version_major": 2,
       "version_minor": 0
      },
      "text/plain": [
       "  0%|          | 0/100 [00:00<?, ?it/s]"
      ]
     },
     "metadata": {},
     "output_type": "display_data"
    }
   ],
   "source": [
    "model.fit(user_item_t_csr)"
   ]
  },
  {
   "cell_type": "markdown",
   "metadata": {},
   "source": [
    "Построим похожие фильмы по 1 movie_id = Истории игрушек"
   ]
  },
  {
   "cell_type": "code",
   "execution_count": 10,
   "metadata": {},
   "outputs": [
    {
     "data": {
      "text/html": [
       "<div>\n",
       "<style scoped>\n",
       "    .dataframe tbody tr th:only-of-type {\n",
       "        vertical-align: middle;\n",
       "    }\n",
       "\n",
       "    .dataframe tbody tr th {\n",
       "        vertical-align: top;\n",
       "    }\n",
       "\n",
       "    .dataframe thead th {\n",
       "        text-align: right;\n",
       "    }\n",
       "</style>\n",
       "<table border=\"1\" class=\"dataframe\">\n",
       "  <thead>\n",
       "    <tr style=\"text-align: right;\">\n",
       "      <th></th>\n",
       "      <th>movie_id</th>\n",
       "      <th>name</th>\n",
       "      <th>category</th>\n",
       "    </tr>\n",
       "  </thead>\n",
       "  <tbody>\n",
       "    <tr>\n",
       "      <th>0</th>\n",
       "      <td>1</td>\n",
       "      <td>Toy Story (1995)</td>\n",
       "      <td>Animation|Children's|Comedy</td>\n",
       "    </tr>\n",
       "    <tr>\n",
       "      <th>1</th>\n",
       "      <td>2</td>\n",
       "      <td>Jumanji (1995)</td>\n",
       "      <td>Adventure|Children's|Fantasy</td>\n",
       "    </tr>\n",
       "    <tr>\n",
       "      <th>2</th>\n",
       "      <td>3</td>\n",
       "      <td>Grumpier Old Men (1995)</td>\n",
       "      <td>Comedy|Romance</td>\n",
       "    </tr>\n",
       "    <tr>\n",
       "      <th>3</th>\n",
       "      <td>4</td>\n",
       "      <td>Waiting to Exhale (1995)</td>\n",
       "      <td>Comedy|Drama</td>\n",
       "    </tr>\n",
       "    <tr>\n",
       "      <th>4</th>\n",
       "      <td>5</td>\n",
       "      <td>Father of the Bride Part II (1995)</td>\n",
       "      <td>Comedy</td>\n",
       "    </tr>\n",
       "  </tbody>\n",
       "</table>\n",
       "</div>"
      ],
      "text/plain": [
       "   movie_id                                name                      category\n",
       "0         1                    Toy Story (1995)   Animation|Children's|Comedy\n",
       "1         2                      Jumanji (1995)  Adventure|Children's|Fantasy\n",
       "2         3             Grumpier Old Men (1995)                Comedy|Romance\n",
       "3         4            Waiting to Exhale (1995)                  Comedy|Drama\n",
       "4         5  Father of the Bride Part II (1995)                        Comedy"
      ]
     },
     "execution_count": 10,
     "metadata": {},
     "output_type": "execute_result"
    }
   ],
   "source": [
    "movie_info.head(5)"
   ]
  },
  {
   "cell_type": "code",
   "execution_count": 11,
   "metadata": {},
   "outputs": [],
   "source": [
    "get_similars = lambda item_id, model : [movie_info[movie_info[\"movie_id\"] == x[0]][\"name\"].to_string() \n",
    "                                        for x in model.similar_items(item_id)]"
   ]
  },
  {
   "cell_type": "markdown",
   "metadata": {},
   "source": [
    "Как мы видим, симилары действительно оказались симиларами.\n",
    "\n",
    "Качество симиларов часто является хорошим способом проверить качество алгоритмов.\n",
    "\n",
    "P.S. Если хочется поглубже разобраться в том как разные алгоритмы формируют разные латентные пространства, рекомендую загружать полученные вектора в tensorBoard и смотреть на сформированное пространство"
   ]
  },
  {
   "cell_type": "code",
   "execution_count": 12,
   "metadata": {},
   "outputs": [
    {
     "data": {
      "text/plain": [
       "['0    Toy Story (1995)',\n",
       " '3045    Toy Story 2 (1999)',\n",
       " \"2286    Bug's Life, A (1998)\",\n",
       " '33    Babe (1995)',\n",
       " '584    Aladdin (1992)',\n",
       " '2315    Babe: Pig in the City (1998)',\n",
       " '1526    Hercules (1997)',\n",
       " '360    Lion King, The (1994)',\n",
       " '2692    Iron Giant, The (1999)',\n",
       " '2618    Tarzan (1999)']"
      ]
     },
     "execution_count": 12,
     "metadata": {},
     "output_type": "execute_result"
    }
   ],
   "source": [
    "get_similars(1, model)"
   ]
  },
  {
   "cell_type": "markdown",
   "metadata": {},
   "source": [
    "Давайте теперь построим рекомендации для юзеров\n",
    "\n",
    "Как мы видим юзеру нравится фантастика, значит и в рекомендациях ожидаем увидеть фантастику"
   ]
  },
  {
   "cell_type": "code",
   "execution_count": 13,
   "metadata": {},
   "outputs": [],
   "source": [
    "get_user_history = lambda user_id, implicit_ratings : [movie_info[movie_info[\"movie_id\"] == x][\"name\"].to_string() \n",
    "                                            for x in implicit_ratings[implicit_ratings[\"user_id\"] == user_id][\"movie_id\"]]"
   ]
  },
  {
   "cell_type": "code",
   "execution_count": 14,
   "metadata": {},
   "outputs": [
    {
     "data": {
      "text/plain": [
       "['3399    Hustler, The (1961)',\n",
       " '2882    Fistful of Dollars, A (1964)',\n",
       " '1196    Alien (1979)',\n",
       " '1023    Die Hard (1988)',\n",
       " '257    Star Wars: Episode IV - A New Hope (1977)',\n",
       " '1959    Saving Private Ryan (1998)',\n",
       " '476    Jurassic Park (1993)',\n",
       " '1180    Raiders of the Lost Ark (1981)',\n",
       " '1885    Rocky (1976)',\n",
       " '1081    E.T. the Extra-Terrestrial (1982)',\n",
       " '3349    Thelma & Louise (1991)',\n",
       " '3633    Mad Max (1979)',\n",
       " '2297    King Kong (1933)',\n",
       " '1366    Jaws (1975)',\n",
       " '1183    Good, The Bad and The Ugly, The (1966)',\n",
       " '2623    Run Lola Run (Lola rennt) (1998)',\n",
       " '2878    Goldfinger (1964)',\n",
       " '1220    Terminator, The (1984)']"
      ]
     },
     "execution_count": 14,
     "metadata": {},
     "output_type": "execute_result"
    }
   ],
   "source": [
    "get_user_history(4, implicit_ratings)"
   ]
  },
  {
   "cell_type": "markdown",
   "metadata": {},
   "source": [
    "Получилось! \n",
    "\n",
    "Мы действительно порекомендовали пользователю фантастику и боевики, более того встречаются продолжения тех фильмов, которые он высоко оценил"
   ]
  },
  {
   "cell_type": "code",
   "execution_count": 15,
   "metadata": {},
   "outputs": [],
   "source": [
    "get_recommendations = lambda user_id, model : [movie_info[movie_info[\"movie_id\"] == x[0]][\"name\"].to_string() \n",
    "                                               for x in model.recommend(user_id, user_item_csr)]"
   ]
  },
  {
   "cell_type": "code",
   "execution_count": 16,
   "metadata": {},
   "outputs": [
    {
     "data": {
      "text/plain": [
       "['585    Terminator 2: Judgment Day (1991)',\n",
       " '1284    Butch Cassidy and the Sundance Kid (1969)',\n",
       " '1271    Indiana Jones and the Last Crusade (1989)',\n",
       " '2502    Matrix, The (1999)',\n",
       " '1182    Aliens (1986)',\n",
       " '1178    Star Wars: Episode V - The Empire Strikes Back...',\n",
       " '1884    French Connection, The (1971)',\n",
       " '1892    Rain Man (1988)',\n",
       " '453    Fugitive, The (1993)',\n",
       " '957    African Queen, The (1951)']"
      ]
     },
     "execution_count": 16,
     "metadata": {},
     "output_type": "execute_result"
    }
   ],
   "source": [
    "get_recommendations(4, model)"
   ]
  },
  {
   "cell_type": "markdown",
   "metadata": {},
   "source": [
    "Теперь ваша очередь реализовать самые популярные алгоритмы матричных разложений\n",
    "\n",
    "Что будет оцениваться:\n",
    "1. Корректность алгоритма\n",
    "2. Качество получившихся симиларов\n",
    "3. Качество итоговых рекомендаций для юзера"
   ]
  },
  {
   "cell_type": "markdown",
   "metadata": {},
   "source": [
    "### Задание 1. Не используя готовые решения, реализовать SVD разложение, используя SGD на explicit данных"
   ]
  },
  {
   "cell_type": "code",
   "execution_count": 63,
   "metadata": {},
   "outputs": [],
   "source": [
    "users = ratings.user_id\n",
    "movies = ratings.movie_id\n",
    "rat = ratings.rating\n",
    "user_item_exp = sp.coo_matrix((rat, (users, movies)))\n",
    "user_item_csr = user_item_exp.tocsr()"
   ]
  },
  {
   "cell_type": "code",
   "execution_count": 116,
   "metadata": {},
   "outputs": [],
   "source": [
    "class MF:\n",
    "    def __init__(self):\n",
    "        self.W = None\n",
    "        self.H = None\n",
    "    \n",
    "    def similar_items(self, item_id, n=10):\n",
    "        dist = cosine_distances(self.H.T, self.H.T)\n",
    "        return [(id_, d) for id_, d in zip(np.argsort(dist[item_id]), np.sort(dist[item_id]))][:n]\n",
    "    \n",
    "    def similar_users(self, user_id, n=10):\n",
    "        dist = cosine_distances(self.W, self.W)\n",
    "        return [(id_, d) for id_, d in zip(np.argsort(dist[user_id]), np.sort(dist[user_id]))][:n]\n",
    "    \n",
    "    def recommend(self, user_id, user_item_csr, n=10):\n",
    "        pred = np.argsort(self.W[user_id] @ self.H)\n",
    "        rated = set(user_item_csr[user_id].indices)\n",
    "        \n",
    "        cnt = 0\n",
    "        output = []\n",
    "        for el in pred:\n",
    "            if cnt == n:\n",
    "                break\n",
    "            if el not in rated:\n",
    "                output.append([el])\n",
    "            cnt += 1\n",
    "        return output\n",
    "    \n",
    "    def mse(self, V):\n",
    "        pred = np.array([self.W[i, :] @ self.H[:, j] for i, j in zip(*V.nonzero())])\n",
    "        return np.mean(np.square(V.data - pred))"
   ]
  },
  {
   "cell_type": "code",
   "execution_count": 84,
   "metadata": {},
   "outputs": [],
   "source": [
    "class SVD(MF):\n",
    "    def __init__(self, features, users, items):\n",
    "        super().__init__()\n",
    "        self.k = features\n",
    "        self.users = users\n",
    "        self.items = items\n",
    "        self.W = np.random.uniform(0, 1 / np.sqrt(self.k), (users, self.k))\n",
    "        self.H = np.random.uniform(0, 1 / np.sqrt(self.k), (self.k, items))\n",
    "        self.bu = np.random.uniform(0, 1 / np.sqrt(self.k), (users, 1))\n",
    "        self.bi = np.random.uniform(0, 1 / np.sqrt(self.k), (items, 1))\n",
    "        \n",
    "    def fit(self, ratings, batch_size=500, iterations=1000, lr=1e-3, lambda_=1e-3):\n",
    "        V = ratings\n",
    "#         self.mu = V[np.nonzero(V)].mean()\n",
    "        \n",
    "        user_nonzero, item_nonzero = V.nonzero()\n",
    "        \n",
    "        for iteration in tqdm(range(iterations)):\n",
    "            # чтобы итерация была проходом по нескольким значениям \n",
    "            # (могут быть повторения за счет случайности)\n",
    "            for value in tqdm(np.random.permutation(user_nonzero.shape[0]), position=0, leave=True):\n",
    "#                 i, j = np.random.randint(0, self.users), np.random.randint(0, self.items)\n",
    "                i, j = user_nonzero[value], item_nonzero[value]\n",
    "#                 error = (self.W[i, :] @ self.H[:, j] + self.mu + self.bu[i] + self.bi[j]) - V[i, j]\n",
    "                error = self.W[i, :] @ self.H[:, j] - V[i, j]\n",
    "                self.W[i, :] -= lr * (error * self.H[:, j].T + lambda_ * self.W[i, :])\n",
    "                self.H[:, j] -= lr * (error * self.W[i, :].T + lambda_ * self.H[:, j])\n",
    "                \n",
    "#                 self.bu[i] -= lr * (error + lambda_ * self.bu[i])\n",
    "#                 self.bi[j] -= lr * (error + lambda_ * self.bi[j])\n",
    "            \n",
    "            print(f'Iteration {iteration} MSE = {self.mse(V)}')\n",
    "            # convergence\n",
    "            if iteration % 1000 == 0 and np.allclose(V.toarray(), self.predict()):\n",
    "                return\n",
    "    \n",
    "    def predict(self):\n",
    "        return self.W @ self.H #+ self.mu + self.bu + self.bi.T"
   ]
  },
  {
   "cell_type": "code",
   "execution_count": 86,
   "metadata": {},
   "outputs": [
    {
     "name": "stdout",
     "output_type": "stream",
     "text": [
      "CPU times: user 14.1 ms, sys: 2.2 ms, total: 16.3 ms\n",
      "Wall time: 14.7 ms\n"
     ]
    }
   ],
   "source": [
    "%%time\n",
    "users, items = user_item_csr.shape\n",
    "svd = SVD(64, users, items)"
   ]
  },
  {
   "cell_type": "code",
   "execution_count": 87,
   "metadata": {},
   "outputs": [
    {
     "name": "stdout",
     "output_type": "stream",
     "text": [
      "CPU times: user 1.59 ms, sys: 625 µs, total: 2.22 ms\n",
      "Wall time: 1.18 ms\n"
     ]
    }
   ],
   "source": [
    "%%time\n",
    "svd.fit(user_item_csr, iterations=10, lr=1e-2, lambda_=0.1)"
   ]
  },
  {
   "cell_type": "code",
   "execution_count": 88,
   "metadata": {},
   "outputs": [
    {
     "data": {
      "text/plain": [
       "['0    Toy Story (1995)',\n",
       " '3045    Toy Story 2 (1999)',\n",
       " '2009    Jungle Book, The (1967)',\n",
       " \"2286    Bug's Life, A (1998)\",\n",
       " '1628    Witness (1985)',\n",
       " '2327    Shakespeare in Love (1998)',\n",
       " '1287    When Harry Met Sally... (1989)',\n",
       " '3294    American Graffiti (1973)',\n",
       " '3457    Parenthood (1989)',\n",
       " \"941    It's a Wonderful Life (1946)\"]"
      ]
     },
     "execution_count": 88,
     "metadata": {},
     "output_type": "execute_result"
    }
   ],
   "source": [
    "get_similars(1, svd)"
   ]
  },
  {
   "cell_type": "markdown",
   "metadata": {},
   "source": [
    "### Задание 2. Не используя готовые решения, реализовать матричное разложение, используя ALS на implicit данных"
   ]
  },
  {
   "cell_type": "code",
   "execution_count": 140,
   "metadata": {},
   "outputs": [],
   "source": [
    "class ALS(MF):\n",
    "    def __init__(self, features, users, items):\n",
    "        super().__init__()\n",
    "        self.k = features \n",
    "        self.W = np.random.uniform(0, 1 / np.sqrt(self.k), (users, self.k))\n",
    "        self.H = np.random.uniform(0, 1 / np.sqrt(self.k), (self.k, items))\n",
    "    \n",
    "    def fit(self, ratings, lr=1e-1, iterations=10, log_every=10):\n",
    "        R = ratings\n",
    "        for iteration in range(iterations):\n",
    "            self.H = np.linalg.inv(self.W.T @ self.W + lr * np.eye(self.k)) @ self.W.T @ R\n",
    "            self.W = (np.linalg.inv(self.H @ self.H.T + lr * np.eye(self.k)) @ self.H @ R.T).T\n",
    "            \n",
    "            if iteration % log_every == 0 or iteration + 1 == iterations:\n",
    "                print(f'Iteration {iteration + 1} MSE = {self.mse(ratings)}')"
   ]
  },
  {
   "cell_type": "code",
   "execution_count": 138,
   "metadata": {},
   "outputs": [],
   "source": [
    "users = implicit_ratings[\"user_id\"]\n",
    "movies = implicit_ratings[\"movie_id\"]\n",
    "user_item = sp.coo_matrix((np.ones_like(users), (users, movies)))\n",
    "user_item_t_csr = user_item.T.tocsr()\n",
    "user_item_csr = user_item.tocsr()"
   ]
  },
  {
   "cell_type": "code",
   "execution_count": 141,
   "metadata": {},
   "outputs": [
    {
     "name": "stdout",
     "output_type": "stream",
     "text": [
      "Iteration 1 MSE = 0.5291843469888944\n",
      "Iteration 11 MSE = 0.4085729151206799\n",
      "Iteration 21 MSE = 0.40815655627602043\n",
      "Iteration 31 MSE = 0.4080260014679035\n",
      "Iteration 41 MSE = 0.40796271858751876\n",
      "Iteration 51 MSE = 0.4079183605495556\n",
      "Iteration 61 MSE = 0.40788271943409704\n",
      "Iteration 71 MSE = 0.40785270378636923\n",
      "Iteration 81 MSE = 0.4078268344052093\n",
      "Iteration 91 MSE = 0.4078041601954663\n",
      "Iteration 100 MSE = 0.4077859030411155\n"
     ]
    }
   ],
   "source": [
    "users, items = user_item_csr.shape\n",
    "als = ALS(64, users, items)\n",
    "als.fit(user_item_csr, iterations=100)"
   ]
  },
  {
   "cell_type": "code",
   "execution_count": 142,
   "metadata": {},
   "outputs": [
    {
     "data": {
      "text/plain": [
       "['0    Toy Story (1995)',\n",
       " '3045    Toy Story 2 (1999)',\n",
       " \"2286    Bug's Life, A (1998)\",\n",
       " '33    Babe (1995)',\n",
       " '584    Aladdin (1992)',\n",
       " '2315    Babe: Pig in the City (1998)',\n",
       " '2252    Pleasantville (1998)',\n",
       " '360    Lion King, The (1994)',\n",
       " '2692    Iron Giant, The (1999)',\n",
       " '1526    Hercules (1997)']"
      ]
     },
     "execution_count": 142,
     "metadata": {},
     "output_type": "execute_result"
    }
   ],
   "source": [
    "get_similars(1, als)"
   ]
  },
  {
   "cell_type": "markdown",
   "metadata": {},
   "source": [
    "### Задание 3. Не используя готовые решения, реализовать матричное разложение BPR на implicit данных"
   ]
  },
  {
   "cell_type": "code",
   "execution_count": 184,
   "metadata": {},
   "outputs": [],
   "source": [
    "class BPR(MF):\n",
    "    def __init__(self, features, users, items):\n",
    "        super().__init__()\n",
    "        self.k = features \n",
    "        self.users = users\n",
    "        self.items = items\n",
    "        self.W = np.random.uniform(0, 1 / np.sqrt(self.k), (users, self.k))\n",
    "        self.H = np.random.uniform(0, 1 / np.sqrt(self.k), (self.k, items))\n",
    "    \n",
    "    def sigmoid(self, x):\n",
    "        return np.exp(-x) / (1 + np.exp(-x))\n",
    "    \n",
    "    def fit(self, ratings, iterations, lr=1e-2, lambda_=0.1, eps=1e-8):\n",
    "        V = ratings\n",
    "        \n",
    "        user_nonzero, item_nonzero = V.nonzero()\n",
    "        print(f'Start MSE = {self.mse(ratings)}')\n",
    "        for iteration in tqdm(range(iterations), position=0, leave=True):\n",
    "            for value in tqdm(np.random.permutation(user_nonzero.shape[0]), position=0, leave=True):\n",
    "                i, j = user_nonzero[value], item_nonzero[value]\n",
    "                # taking one random negative sample\n",
    "                negative_sample = np.random.choice(np.setdiff1d(np.arange(self.items), V[i].nonzero()[1]))\n",
    "                x_uij = self.W[i, :] @ (self.H[:, j] - self.H[:, negative_sample])\n",
    "                sigma = self.sigmoid(x_uij + eps)\n",
    "                \n",
    "                self.W[i,:] += lr * \\\n",
    "                        (sigma * (self.H[:, j] - self.H[:, negative_sample]) + lambda_ * self.W[i, :])\n",
    "                self.H[:, j] += lr * \\\n",
    "                        (sigma * self.W[i, :] + lambda_ * self.H[:, j])\n",
    "                self.H[:, negative_sample] += lr * \\\n",
    "                        (-sigma * self.W[i, :] + lambda_ * self.H[:, negative_sample])\n",
    "                \n",
    "            print(f'Iteration {iteration} MSE = {self.mse(ratings)}')"
   ]
  },
  {
   "cell_type": "code",
   "execution_count": 185,
   "metadata": {},
   "outputs": [
    {
     "name": "stderr",
     "output_type": "stream",
     "text": [
      "  0%|          | 191/575281 [00:00<05:01, 1906.89it/s]"
     ]
    },
    {
     "name": "stdout",
     "output_type": "stream",
     "text": [
      "Start MSE = 0.5603821827704101\n"
     ]
    },
    {
     "name": "stderr",
     "output_type": "stream",
     "text": [
      "100%|██████████| 575281/575281 [04:49<00:00, 1986.43it/s]\n",
      "  0%|          | 206/575281 [00:00<04:39, 2054.43it/s]"
     ]
    },
    {
     "name": "stdout",
     "output_type": "stream",
     "text": [
      "Iteration 0 MSE = 0.46682400406634234\n"
     ]
    },
    {
     "name": "stderr",
     "output_type": "stream",
     "text": [
      "100%|██████████| 575281/575281 [05:18<00:00, 1805.84it/s]\n",
      "  0%|          | 188/575281 [00:00<05:06, 1875.86it/s]"
     ]
    },
    {
     "name": "stdout",
     "output_type": "stream",
     "text": [
      "Iteration 1 MSE = 0.3866594349634043\n"
     ]
    },
    {
     "name": "stderr",
     "output_type": "stream",
     "text": [
      "100%|██████████| 575281/575281 [05:09<00:00, 1856.91it/s]\n",
      "  0%|          | 197/575281 [00:00<04:52, 1969.29it/s]"
     ]
    },
    {
     "name": "stdout",
     "output_type": "stream",
     "text": [
      "Iteration 2 MSE = 0.31960714057050527\n"
     ]
    },
    {
     "name": "stderr",
     "output_type": "stream",
     "text": [
      "100%|██████████| 575281/575281 [05:25<00:00, 1768.66it/s]\n",
      "  0%|          | 167/575281 [00:00<05:47, 1656.96it/s]"
     ]
    },
    {
     "name": "stdout",
     "output_type": "stream",
     "text": [
      "Iteration 3 MSE = 0.269561916761583\n"
     ]
    },
    {
     "name": "stderr",
     "output_type": "stream",
     "text": [
      "100%|██████████| 575281/575281 [05:25<00:00, 1767.14it/s]\n",
      "  0%|          | 183/575281 [00:00<05:14, 1827.83it/s]"
     ]
    },
    {
     "name": "stdout",
     "output_type": "stream",
     "text": [
      "Iteration 4 MSE = 0.24262369531302946\n"
     ]
    },
    {
     "name": "stderr",
     "output_type": "stream",
     "text": [
      "100%|██████████| 575281/575281 [04:58<00:00, 1928.24it/s]\n",
      "100%|██████████| 6/6 [31:16<00:00, 312.80s/it]"
     ]
    },
    {
     "name": "stdout",
     "output_type": "stream",
     "text": [
      "Iteration 5 MSE = 0.24443393161999408\n"
     ]
    },
    {
     "name": "stderr",
     "output_type": "stream",
     "text": [
      "\n"
     ]
    }
   ],
   "source": [
    "users, items = user_item_csr.shape\n",
    "bpr = BPR(64, users, items)\n",
    "bpr.fit(user_item_csr, iterations=6, lr=1e-3, lambda_=1e-3)"
   ]
  },
  {
   "cell_type": "code",
   "execution_count": 190,
   "metadata": {},
   "outputs": [
    {
     "data": {
      "text/plain": [
       "['0    Toy Story (1995)',\n",
       " '293    Pulp Fiction (1994)',\n",
       " '1178    Star Wars: Episode V - The Empire Strikes Back...',\n",
       " '2789    American Beauty (1999)',\n",
       " '2502    Matrix, The (1999)',\n",
       " '1959    Saving Private Ryan (1998)',\n",
       " '537    Blade Runner (1982)',\n",
       " '847    Godfather, The (1972)',\n",
       " '589    Silence of the Lambs, The (1991)',\n",
       " '3106    Galaxy Quest (1999)']"
      ]
     },
     "execution_count": 190,
     "metadata": {},
     "output_type": "execute_result"
    }
   ],
   "source": [
    "get_similars(1, bpr)"
   ]
  },
  {
   "cell_type": "markdown",
   "metadata": {},
   "source": [
    "### Задание 4. Не используя готовые решения, реализовать матричное разложение WARP на implicit данных"
   ]
  },
  {
   "cell_type": "code",
   "execution_count": 186,
   "metadata": {},
   "outputs": [],
   "source": [
    "class WARP(MF):\n",
    "    def __init__(self, features, users, items, m=1):\n",
    "        super().__init__()\n",
    "        self.k = features \n",
    "        self.users = users\n",
    "        self.items = items\n",
    "        self.m = m\n",
    "        self.W = np.random.uniform(0, 1 / np.sqrt(self.k), (users, self.k))\n",
    "        self.H = np.random.uniform(0, 1 / np.sqrt(self.k), (self.k, items))\n",
    "    \n",
    "    def fit(self, ratings, iterations, lr, lambda_, negatives=10):\n",
    "        V = ratings\n",
    "        \n",
    "        user_nonzero, item_nonzero = V.nonzero()\n",
    "        print(f'Start MSE = {self.mse(ratings)}')\n",
    "        for iteration in tqdm(range(iterations), position=0, leave=True):\n",
    "            for value in tqdm(np.random.permutation(user_nonzero.shape[0]), position=0, leave=True):\n",
    "                i, j = user_nonzero[value], item_nonzero[value]\n",
    "                positive = self.W[i, :] @ self.H[:, j]\n",
    "                for neg in range(1, negatives + 1):\n",
    "                    negative_sample = np.random.choice(np.setdiff1d(np.arange(self.items), V[i].nonzero()[1]))\n",
    "                    negative = self.W[negative_sample, :] @ self.H[:, negative_sample]\n",
    "                    if self.m  + negative - positive > 0:\n",
    "                        loss = np.log(negatives // neg)\n",
    "                        \n",
    "                        self.W[i, :] -= lr * (loss * (self.H[:, negative_sample] - self.H[:, j]) \n",
    "                                              + lambda_ * self.W[i, :])\n",
    "                        self.H[:, j] -= lr * (-loss * self.W[i, :] + lambda_ * self.H[:, j])\n",
    "                        self.H[:, negative_sample] -= lr * (loss * self.W[i, :] \n",
    "                                                            + lambda_ * self.H[:, negative_sample])\n",
    "            \n",
    "            print(f'Iteration {iteration} MSE = {self.mse(ratings)}')"
   ]
  },
  {
   "cell_type": "code",
   "execution_count": null,
   "metadata": {},
   "outputs": [],
   "source": [
    "users, items = user_item_csr.shape\n",
    "warp = WARP(64, users, items)\n",
    "warp.fit(user_item_csr, iterations=3, lr=1e-4, lambda_=1e-3)"
   ]
  },
  {
   "cell_type": "code",
   "execution_count": 189,
   "metadata": {},
   "outputs": [
    {
     "data": {
      "text/plain": [
       "['0    Toy Story (1995)',\n",
       " '257    Star Wars: Episode IV - A New Hope (1977)',\n",
       " '476    Jurassic Park (1993)',\n",
       " '2789    American Beauty (1999)',\n",
       " '1192    Star Wars: Episode VI - Return of the Jedi (1983)',\n",
       " '604    Fargo (1996)',\n",
       " '2693    Sixth Sense, The (1999)',\n",
       " '1180    Raiders of the Lost Ark (1981)',\n",
       " '1220    Terminator, The (1984)',\n",
       " \"1176    One Flew Over the Cuckoo's Nest (1975)\"]"
      ]
     },
     "execution_count": 189,
     "metadata": {},
     "output_type": "execute_result"
    }
   ],
   "source": [
    "get_similars(1, warp)"
   ]
  },
  {
   "cell_type": "code",
   "execution_count": null,
   "metadata": {},
   "outputs": [],
   "source": []
  }
 ],
 "metadata": {
  "kernelspec": {
   "display_name": "Python 3",
   "language": "python",
   "name": "python3"
  },
  "language_info": {
   "codemirror_mode": {
    "name": "ipython",
    "version": 3
   },
   "file_extension": ".py",
   "mimetype": "text/x-python",
   "name": "python",
   "nbconvert_exporter": "python",
   "pygments_lexer": "ipython3",
   "version": "3.8.5"
  }
 },
 "nbformat": 4,
 "nbformat_minor": 4
}
